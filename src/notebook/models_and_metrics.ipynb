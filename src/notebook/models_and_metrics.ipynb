{
  "nbformat": 4,
  "nbformat_minor": 0,
  "metadata": {
    "colab": {
      "provenance": []
    },
    "kernelspec": {
      "name": "python3",
      "display_name": "Python 3"
    },
    "language_info": {
      "name": "python"
    }
  },
  "cells": [
    {
      "cell_type": "code",
      "execution_count": 2,
      "metadata": {
        "colab": {
          "base_uri": "https://localhost:8080/"
        },
        "id": "NWKBVU-qI73e",
        "outputId": "d7a98755-82e9-4467-a5b1-77838a2d60c8"
      },
      "outputs": [
        {
          "output_type": "execute_result",
          "data": {
            "text/plain": [
              "(53567, 122)"
            ]
          },
          "metadata": {},
          "execution_count": 2
        }
      ],
      "source": [
        "# Re-import after reset\n",
        "import json\n",
        "import pandas as pd\n",
        "from pathlib import Path\n",
        "\n",
        "# Load full chunk again\n",
        "file_path = Path(\"/content/drive/MyDrive/new chunk/reviews_chunk_0000.jsonl\")\n",
        "with open(file_path, \"r\") as f:\n",
        "    data = [json.loads(line) for line in f]\n",
        "\n",
        "df = pd.DataFrame(data)\n",
        "\n",
        "# Print shape\n",
        "df.shape\n"
      ]
    },
    {
      "cell_type": "code",
      "source": [
        "import torch\n",
        "import torch.nn as nn\n",
        "import torch.optim as optim\n",
        "from torch.utils.data import Dataset, DataLoader\n",
        "from tqdm import tqdm\n",
        "from typing import List, Tuple, Dict\n",
        "\n",
        "# Dataset class\n",
        "class HotelReviewDataset(Dataset):\n",
        "    def __init__(self, df: pd.DataFrame, feature_cols: List[str], target_col: str = None):\n",
        "        self.features = torch.FloatTensor(df[feature_cols].values)\n",
        "        self.target = torch.FloatTensor(df[target_col].values) if target_col else None\n",
        "\n",
        "    def __len__(self):\n",
        "        return len(self.features)\n",
        "\n",
        "    def __getitem__(self, idx: int):\n",
        "        if self.target is not None:\n",
        "            return self.features[idx], self.target[idx]\n",
        "        return self.features[idx]\n",
        "\n",
        "# Model architecture\n",
        "class ContentBasedModel(nn.Module):\n",
        "    def __init__(self, input_dim: int, hidden_dim: int = 128, dropout: float = 0.3):\n",
        "        super().__init__()\n",
        "        self.model = nn.Sequential(\n",
        "            nn.Linear(input_dim, hidden_dim),\n",
        "            nn.ReLU(),\n",
        "            nn.Dropout(dropout),\n",
        "            nn.Linear(hidden_dim, hidden_dim // 2),\n",
        "            nn.ReLU(),\n",
        "            nn.Dropout(dropout),\n",
        "            nn.Linear(hidden_dim // 2, 1)\n",
        "        )\n",
        "\n",
        "    def forward(self, x: torch.Tensor) -> torch.Tensor:\n",
        "        return self.model(x).squeeze(-1)\n",
        "\n",
        "# Training function\n",
        "def train_content_based_model(\n",
        "    train_df: pd.DataFrame,\n",
        "    val_df: pd.DataFrame,\n",
        "    feature_cols: List[str],\n",
        "    target_col: str = 'rating',\n",
        "    batch_size: int = 64,\n",
        "    num_epochs: int = 30,\n",
        "    learning_rate: float = 0.001\n",
        ") -> Tuple[nn.Module, Dict[str, List[float]]]:\n",
        "\n",
        "    print(\"Training content-based model...\")\n",
        "\n",
        "    train_dataset = HotelReviewDataset(train_df, feature_cols, target_col)\n",
        "    val_dataset = HotelReviewDataset(val_df, feature_cols, target_col)\n",
        "    train_loader = DataLoader(train_dataset, batch_size=batch_size, shuffle=True)\n",
        "    val_loader = DataLoader(val_dataset, batch_size=batch_size)\n",
        "\n",
        "    model = ContentBasedModel(input_dim=len(feature_cols))\n",
        "    criterion = nn.MSELoss()\n",
        "    optimizer = optim.Adam(model.parameters(), lr=learning_rate)\n",
        "\n",
        "    history = {'train_loss': [], 'val_loss': []}\n",
        "    best_val_loss = float('inf')\n",
        "    best_model = None\n",
        "\n",
        "    for epoch in range(num_epochs):\n",
        "        model.train()\n",
        "        train_loss = 0.0\n",
        "        for features, targets in tqdm(train_loader, desc=f\"Epoch {epoch+1}/{num_epochs}\"):\n",
        "            optimizer.zero_grad()\n",
        "            outputs = model(features)\n",
        "            loss = criterion(outputs, targets)\n",
        "            loss.backward()\n",
        "            optimizer.step()\n",
        "            train_loss += loss.item()\n",
        "        train_loss /= len(train_loader)\n",
        "\n",
        "        model.eval()\n",
        "        val_loss = 0.0\n",
        "        with torch.no_grad():\n",
        "            for features, targets in val_loader:\n",
        "                outputs = model(features)\n",
        "                loss = criterion(outputs, targets)\n",
        "                val_loss += loss.item()\n",
        "        val_loss /= len(val_loader)\n",
        "\n",
        "        history['train_loss'].append(train_loss)\n",
        "        history['val_loss'].append(val_loss)\n",
        "\n",
        "        if val_loss < best_val_loss:\n",
        "            best_val_loss = val_loss\n",
        "            best_model = model.state_dict()\n",
        "\n",
        "        print(f\"Epoch {epoch+1}: Train Loss = {train_loss:.4f}, Val Loss = {val_loss:.4f}\")\n",
        "\n",
        "    model.load_state_dict(best_model)\n",
        "    torch.save(model.state_dict(), \"/content/drive/MyDrive/new chunk/model_outputs/content_based_model.pt\")\n",
        "    return model, history\n"
      ],
      "metadata": {
        "id": "Y_ysIKHXq0CE"
      },
      "execution_count": 3,
      "outputs": []
    },
    {
      "cell_type": "code",
      "source": [
        "from pathlib import Path\n",
        "import pandas as pd\n",
        "from sklearn.model_selection import train_test_split\n",
        "import matplotlib.pyplot as plt\n",
        "\n",
        "# 1. Load the review dataset\n",
        "df = pd.read_json(Path(\"/content/drive/MyDrive/new chunk/reviews_chunk_0000.jsonl\"), lines=True)\n",
        "\n",
        "# 2. Train/val split\n",
        "train_df, val_df = train_test_split(df, test_size=0.2, random_state=42)\n",
        "\n",
        "# 3. Define feature columns for content-based model\n",
        "feature_cols = [\n",
        "    col for col in df.columns\n",
        "    if col.startswith('rating_') or col.startswith('tfidf_') or\n",
        "    col.endswith('_sentiment_compound') or col.endswith('_sentiment_positive') or\n",
        "    col.endswith('_sentiment_neutral') or col.endswith('_sentiment_negative')\n",
        "]\n",
        "\n",
        "# 4. Train the content-based model\n",
        "model, history = train_content_based_model(\n",
        "    train_df=train_df,\n",
        "    val_df=val_df,\n",
        "    feature_cols=feature_cols,\n",
        "    target_col='rating',\n",
        "    batch_size=64,\n",
        "    num_epochs=30,\n",
        "    learning_rate=0.001\n",
        ")\n",
        "\n",
        "# 5. Define the plotting function\n",
        "def plot_training_history(histories, model_names):\n",
        "    \"\"\"\n",
        "    Plot training and validation loss for multiple models.\n",
        "\n",
        "    Args:\n",
        "        histories (List[Dict[str, List[float]]]): List of training histories.\n",
        "        model_names (List[str]): Corresponding model names.\n",
        "    \"\"\"\n",
        "    plt.figure(figsize=(14, 6))\n",
        "    for history, name in zip(histories, model_names):\n",
        "        plt.plot(history['train_loss'], label=f'{name} Train Loss')\n",
        "        plt.plot(history['val_loss'], label=f'{name} Val Loss')\n",
        "    plt.xlabel('Epoch')\n",
        "    plt.ylabel('Loss')\n",
        "    plt.title('Train and Validation Loss Across Models')\n",
        "    plt.legend()\n",
        "    plt.grid(True)\n",
        "    plt.tight_layout()\n",
        "    plt.show()\n",
        "\n",
        "# 6. Plot the training graph\n",
        "plot_training_history([history], [\"Content-Based\"])"
      ],
      "metadata": {
        "colab": {
          "base_uri": "https://localhost:8080/",
          "height": 1000
        },
        "id": "Lf4POsPJhZKZ",
        "outputId": "210dbaab-b7bd-4a6d-88b7-1bf53a729b2a"
      },
      "execution_count": 4,
      "outputs": [
        {
          "output_type": "stream",
          "name": "stdout",
          "text": [
            "Training content-based model...\n"
          ]
        },
        {
          "output_type": "stream",
          "name": "stderr",
          "text": [
            "Epoch 1/30: 100%|██████████| 670/670 [00:01<00:00, 396.07it/s]\n"
          ]
        },
        {
          "output_type": "stream",
          "name": "stdout",
          "text": [
            "Epoch 1: Train Loss = 0.9973, Val Loss = 0.4086\n"
          ]
        },
        {
          "output_type": "stream",
          "name": "stderr",
          "text": [
            "Epoch 2/30: 100%|██████████| 670/670 [00:01<00:00, 397.11it/s]\n"
          ]
        },
        {
          "output_type": "stream",
          "name": "stdout",
          "text": [
            "Epoch 2: Train Loss = 0.6554, Val Loss = 0.3894\n"
          ]
        },
        {
          "output_type": "stream",
          "name": "stderr",
          "text": [
            "Epoch 3/30: 100%|██████████| 670/670 [00:01<00:00, 401.30it/s]\n"
          ]
        },
        {
          "output_type": "stream",
          "name": "stdout",
          "text": [
            "Epoch 3: Train Loss = 0.6198, Val Loss = 0.3685\n"
          ]
        },
        {
          "output_type": "stream",
          "name": "stderr",
          "text": [
            "Epoch 4/30: 100%|██████████| 670/670 [00:02<00:00, 315.31it/s]\n"
          ]
        },
        {
          "output_type": "stream",
          "name": "stdout",
          "text": [
            "Epoch 4: Train Loss = 0.5847, Val Loss = 0.4025\n"
          ]
        },
        {
          "output_type": "stream",
          "name": "stderr",
          "text": [
            "Epoch 5/30: 100%|██████████| 670/670 [00:02<00:00, 295.48it/s]\n"
          ]
        },
        {
          "output_type": "stream",
          "name": "stdout",
          "text": [
            "Epoch 5: Train Loss = 0.5505, Val Loss = 0.3696\n"
          ]
        },
        {
          "output_type": "stream",
          "name": "stderr",
          "text": [
            "Epoch 6/30: 100%|██████████| 670/670 [00:01<00:00, 398.48it/s]\n"
          ]
        },
        {
          "output_type": "stream",
          "name": "stdout",
          "text": [
            "Epoch 6: Train Loss = 0.5254, Val Loss = 0.3703\n"
          ]
        },
        {
          "output_type": "stream",
          "name": "stderr",
          "text": [
            "Epoch 7/30: 100%|██████████| 670/670 [00:01<00:00, 395.21it/s]\n"
          ]
        },
        {
          "output_type": "stream",
          "name": "stdout",
          "text": [
            "Epoch 7: Train Loss = 0.4961, Val Loss = 0.4059\n"
          ]
        },
        {
          "output_type": "stream",
          "name": "stderr",
          "text": [
            "Epoch 8/30: 100%|██████████| 670/670 [00:01<00:00, 394.45it/s]\n"
          ]
        },
        {
          "output_type": "stream",
          "name": "stdout",
          "text": [
            "Epoch 8: Train Loss = 0.4774, Val Loss = 0.3916\n"
          ]
        },
        {
          "output_type": "stream",
          "name": "stderr",
          "text": [
            "Epoch 9/30: 100%|██████████| 670/670 [00:01<00:00, 408.74it/s]\n"
          ]
        },
        {
          "output_type": "stream",
          "name": "stdout",
          "text": [
            "Epoch 9: Train Loss = 0.4639, Val Loss = 0.3653\n"
          ]
        },
        {
          "output_type": "stream",
          "name": "stderr",
          "text": [
            "Epoch 10/30: 100%|██████████| 670/670 [00:01<00:00, 394.58it/s]\n"
          ]
        },
        {
          "output_type": "stream",
          "name": "stdout",
          "text": [
            "Epoch 10: Train Loss = 0.4503, Val Loss = 0.3742\n"
          ]
        },
        {
          "output_type": "stream",
          "name": "stderr",
          "text": [
            "Epoch 11/30: 100%|██████████| 670/670 [00:02<00:00, 307.99it/s]\n"
          ]
        },
        {
          "output_type": "stream",
          "name": "stdout",
          "text": [
            "Epoch 11: Train Loss = 0.4433, Val Loss = 0.3696\n"
          ]
        },
        {
          "output_type": "stream",
          "name": "stderr",
          "text": [
            "Epoch 12/30: 100%|██████████| 670/670 [00:02<00:00, 299.91it/s]\n"
          ]
        },
        {
          "output_type": "stream",
          "name": "stdout",
          "text": [
            "Epoch 12: Train Loss = 0.4298, Val Loss = 0.3740\n"
          ]
        },
        {
          "output_type": "stream",
          "name": "stderr",
          "text": [
            "Epoch 13/30: 100%|██████████| 670/670 [00:01<00:00, 405.59it/s]\n"
          ]
        },
        {
          "output_type": "stream",
          "name": "stdout",
          "text": [
            "Epoch 13: Train Loss = 0.4235, Val Loss = 0.3662\n"
          ]
        },
        {
          "output_type": "stream",
          "name": "stderr",
          "text": [
            "Epoch 14/30: 100%|██████████| 670/670 [00:02<00:00, 282.56it/s]\n"
          ]
        },
        {
          "output_type": "stream",
          "name": "stdout",
          "text": [
            "Epoch 14: Train Loss = 0.4113, Val Loss = 0.3577\n"
          ]
        },
        {
          "output_type": "stream",
          "name": "stderr",
          "text": [
            "Epoch 15/30: 100%|██████████| 670/670 [00:04<00:00, 157.53it/s]\n"
          ]
        },
        {
          "output_type": "stream",
          "name": "stdout",
          "text": [
            "Epoch 15: Train Loss = 0.4085, Val Loss = 0.3629\n"
          ]
        },
        {
          "output_type": "stream",
          "name": "stderr",
          "text": [
            "Epoch 16/30: 100%|██████████| 670/670 [00:03<00:00, 188.45it/s]\n"
          ]
        },
        {
          "output_type": "stream",
          "name": "stdout",
          "text": [
            "Epoch 16: Train Loss = 0.3981, Val Loss = 0.3710\n"
          ]
        },
        {
          "output_type": "stream",
          "name": "stderr",
          "text": [
            "Epoch 17/30: 100%|██████████| 670/670 [00:01<00:00, 355.26it/s]\n"
          ]
        },
        {
          "output_type": "stream",
          "name": "stdout",
          "text": [
            "Epoch 17: Train Loss = 0.3944, Val Loss = 0.3619\n"
          ]
        },
        {
          "output_type": "stream",
          "name": "stderr",
          "text": [
            "Epoch 18/30: 100%|██████████| 670/670 [00:01<00:00, 401.08it/s]\n"
          ]
        },
        {
          "output_type": "stream",
          "name": "stdout",
          "text": [
            "Epoch 18: Train Loss = 0.3903, Val Loss = 0.3575\n"
          ]
        },
        {
          "output_type": "stream",
          "name": "stderr",
          "text": [
            "Epoch 19/30: 100%|██████████| 670/670 [00:01<00:00, 391.52it/s]\n"
          ]
        },
        {
          "output_type": "stream",
          "name": "stdout",
          "text": [
            "Epoch 19: Train Loss = 0.3847, Val Loss = 0.3526\n"
          ]
        },
        {
          "output_type": "stream",
          "name": "stderr",
          "text": [
            "Epoch 20/30: 100%|██████████| 670/670 [00:01<00:00, 388.95it/s]\n"
          ]
        },
        {
          "output_type": "stream",
          "name": "stdout",
          "text": [
            "Epoch 20: Train Loss = 0.3800, Val Loss = 0.3561\n"
          ]
        },
        {
          "output_type": "stream",
          "name": "stderr",
          "text": [
            "Epoch 21/30: 100%|██████████| 670/670 [00:01<00:00, 375.33it/s]\n"
          ]
        },
        {
          "output_type": "stream",
          "name": "stdout",
          "text": [
            "Epoch 21: Train Loss = 0.3764, Val Loss = 0.3516\n"
          ]
        },
        {
          "output_type": "stream",
          "name": "stderr",
          "text": [
            "Epoch 22/30: 100%|██████████| 670/670 [00:01<00:00, 341.64it/s]\n"
          ]
        },
        {
          "output_type": "stream",
          "name": "stdout",
          "text": [
            "Epoch 22: Train Loss = 0.3764, Val Loss = 0.3499\n"
          ]
        },
        {
          "output_type": "stream",
          "name": "stderr",
          "text": [
            "Epoch 23/30: 100%|██████████| 670/670 [00:02<00:00, 270.45it/s]\n"
          ]
        },
        {
          "output_type": "stream",
          "name": "stdout",
          "text": [
            "Epoch 23: Train Loss = 0.3732, Val Loss = 0.3615\n"
          ]
        },
        {
          "output_type": "stream",
          "name": "stderr",
          "text": [
            "Epoch 24/30: 100%|██████████| 670/670 [00:01<00:00, 395.79it/s]\n"
          ]
        },
        {
          "output_type": "stream",
          "name": "stdout",
          "text": [
            "Epoch 24: Train Loss = 0.3695, Val Loss = 0.3534\n"
          ]
        },
        {
          "output_type": "stream",
          "name": "stderr",
          "text": [
            "Epoch 25/30: 100%|██████████| 670/670 [00:01<00:00, 397.88it/s]\n"
          ]
        },
        {
          "output_type": "stream",
          "name": "stdout",
          "text": [
            "Epoch 25: Train Loss = 0.3667, Val Loss = 0.3532\n"
          ]
        },
        {
          "output_type": "stream",
          "name": "stderr",
          "text": [
            "Epoch 26/30: 100%|██████████| 670/670 [00:01<00:00, 387.37it/s]\n"
          ]
        },
        {
          "output_type": "stream",
          "name": "stdout",
          "text": [
            "Epoch 26: Train Loss = 0.3666, Val Loss = 0.3496\n"
          ]
        },
        {
          "output_type": "stream",
          "name": "stderr",
          "text": [
            "Epoch 27/30: 100%|██████████| 670/670 [00:01<00:00, 394.87it/s]\n"
          ]
        },
        {
          "output_type": "stream",
          "name": "stdout",
          "text": [
            "Epoch 27: Train Loss = 0.3634, Val Loss = 0.3510\n"
          ]
        },
        {
          "output_type": "stream",
          "name": "stderr",
          "text": [
            "Epoch 28/30: 100%|██████████| 670/670 [00:01<00:00, 387.32it/s]\n"
          ]
        },
        {
          "output_type": "stream",
          "name": "stdout",
          "text": [
            "Epoch 28: Train Loss = 0.3606, Val Loss = 0.3551\n"
          ]
        },
        {
          "output_type": "stream",
          "name": "stderr",
          "text": [
            "Epoch 29/30: 100%|██████████| 670/670 [00:02<00:00, 307.72it/s]\n"
          ]
        },
        {
          "output_type": "stream",
          "name": "stdout",
          "text": [
            "Epoch 29: Train Loss = 0.3602, Val Loss = 0.3513\n"
          ]
        },
        {
          "output_type": "stream",
          "name": "stderr",
          "text": [
            "Epoch 30/30: 100%|██████████| 670/670 [00:02<00:00, 286.90it/s]\n"
          ]
        },
        {
          "output_type": "stream",
          "name": "stdout",
          "text": [
            "Epoch 30: Train Loss = 0.3589, Val Loss = 0.3514\n"
          ]
        },
        {
          "output_type": "display_data",
          "data": {
            "text/plain": [
              "<Figure size 1400x600 with 1 Axes>"
            ],
            "image/png": "[encoded data removed]"
          },
          "metadata": {}
        }
      ]
    },
    {
      "cell_type": "code",
      "source": [
        "torch.save(model.state_dict(), \"/content/drive/MyDrive/new chunk/model_outputs/content_based_model.pt\")\n"
      ],
      "metadata": {
        "id": "KCcDCTkusTkT"
      },
      "execution_count": 5,
      "outputs": []
    },
    {
      "cell_type": "code",
      "source": [
        "import torch\n",
        "import torch.nn as nn\n",
        "import torch.optim as optim\n",
        "from torch.utils.data import Dataset, DataLoader\n",
        "from tqdm import tqdm\n",
        "from typing import List, Tuple, Dict\n",
        "import pandas as pd\n",
        "\n",
        "# Dataset class\n",
        "class HotelReviewDataset(Dataset):\n",
        "    def __init__(self, df: pd.DataFrame, feature_cols: List[str], target_col: str = None):\n",
        "        self.features = torch.FloatTensor(df[feature_cols].values)\n",
        "        self.target = torch.FloatTensor(df[target_col].values) if target_col else None\n",
        "\n",
        "    def __len__(self):\n",
        "        return len(self.features)\n",
        "\n",
        "    def __getitem__(self, idx: int):\n",
        "        if self.target is not None:\n",
        "            return self.features[idx], self.target[idx]\n",
        "        return self.features[idx]\n",
        "\n",
        "# Model architecture\n",
        "class RatingPredictionModel(nn.Module):\n",
        "    def __init__(self, input_dim: int, hidden_dims: List[int] = [256, 128, 64]):\n",
        "        super().__init__()\n",
        "        layers = []\n",
        "        prev_dim = input_dim\n",
        "        for hidden_dim in hidden_dims:\n",
        "            layers.extend([\n",
        "                nn.Linear(prev_dim, hidden_dim),\n",
        "                nn.ReLU(),\n",
        "                nn.BatchNorm1d(hidden_dim),\n",
        "                nn.Dropout(0.2)\n",
        "            ])\n",
        "            prev_dim = hidden_dim\n",
        "        layers.append(nn.Linear(prev_dim, 1))\n",
        "        self.network = nn.Sequential(*layers)\n",
        "\n",
        "    def forward(self, x: torch.Tensor) -> torch.Tensor:\n",
        "        return self.network(x).squeeze(-1)\n",
        "\n",
        "# Training function\n",
        "def train_rating_prediction_model(\n",
        "    train_df: pd.DataFrame,\n",
        "    val_df: pd.DataFrame,\n",
        "    feature_cols: List[str],\n",
        "    target_col: str = 'rating',\n",
        "    batch_size: int = 64,\n",
        "    num_epochs: int = 30,\n",
        "    learning_rate: float = 0.001\n",
        ") -> Tuple[nn.Module, Dict[str, List[float]]]:\n",
        "\n",
        "    print(\"Training rating prediction model...\")\n",
        "\n",
        "    train_dataset = HotelReviewDataset(train_df, feature_cols, target_col)\n",
        "    val_dataset = HotelReviewDataset(val_df, feature_cols, target_col)\n",
        "    train_loader = DataLoader(train_dataset, batch_size=batch_size, shuffle=True)\n",
        "    val_loader = DataLoader(val_dataset, batch_size=batch_size)\n",
        "\n",
        "    model = RatingPredictionModel(input_dim=len(feature_cols))\n",
        "    criterion = nn.MSELoss()\n",
        "    optimizer = optim.Adam(model.parameters(), lr=learning_rate)\n",
        "\n",
        "    history = {'train_loss': [], 'val_loss': []}\n",
        "    best_val_loss = float('inf')\n",
        "    best_model = None\n",
        "\n",
        "    for epoch in range(num_epochs):\n",
        "        model.train()\n",
        "        train_loss = 0.0\n",
        "        for features, targets in tqdm(train_loader, desc=f\"Epoch {epoch+1}/{num_epochs}\"):\n",
        "            optimizer.zero_grad()\n",
        "            outputs = model(features)\n",
        "            loss = criterion(outputs, targets)\n",
        "            loss.backward()\n",
        "            optimizer.step()\n",
        "            train_loss += loss.item()\n",
        "        train_loss /= len(train_loader)\n",
        "\n",
        "        model.eval()\n",
        "        val_loss = 0.0\n",
        "        with torch.no_grad():\n",
        "            for features, targets in val_loader:\n",
        "                outputs = model(features)\n",
        "                loss = criterion(outputs, targets)\n",
        "                val_loss += loss.item()\n",
        "        val_loss /= len(val_loader)\n",
        "\n",
        "        history['train_loss'].append(train_loss)\n",
        "        history['val_loss'].append(val_loss)\n",
        "\n",
        "        if val_loss < best_val_loss:\n",
        "            best_val_loss = val_loss\n",
        "            best_model = model.state_dict()\n",
        "\n",
        "        print(f\"Epoch {epoch+1}: Train Loss = {train_loss:.4f}, Val Loss = {val_loss:.4f}\")\n",
        "\n",
        "    model.load_state_dict(best_model)\n",
        "    return model, history\n"
      ],
      "metadata": {
        "id": "O_YCcpWmxsme"
      },
      "execution_count": 6,
      "outputs": []
    },
    {
      "cell_type": "code",
      "source": [
        "from pathlib import Path\n",
        "import pandas as pd\n",
        "from sklearn.model_selection import train_test_split\n",
        "import torch\n",
        "import matplotlib.pyplot as plt\n",
        "\n",
        "# 1. Load your review chunk\n",
        "chunk_file = Path(\"/content/drive/MyDrive/new chunk/reviews_chunk_0000.jsonl\")\n",
        "df = pd.read_json(chunk_file, lines=True)\n",
        "\n",
        "# 2. Train/Validation split\n",
        "train_df, val_df = train_test_split(df, test_size=0.2, random_state=42)\n",
        "\n",
        "# 3. Define feature columns used in the model\n",
        "feature_cols = [\n",
        "    col for col in df.columns\n",
        "    if col.startswith('rating_') or col.startswith('tfidf_') or\n",
        "    col.endswith('_sentiment_compound') or col.endswith('_sentiment_positive') or\n",
        "    col.endswith('_sentiment_neutral') or col.endswith('_sentiment_negative')\n",
        "]\n",
        "\n",
        "# 4. Train the rating prediction model\n",
        "model, history = train_rating_prediction_model(\n",
        "    train_df=train_df,\n",
        "    val_df=val_df,\n",
        "    feature_cols=feature_cols,\n",
        "    target_col='rating',\n",
        "    batch_size=64,\n",
        "    num_epochs=30,\n",
        "    learning_rate=0.001\n",
        ")\n",
        "\n",
        "# 5. Save model\n",
        "torch.save(model.state_dict(), \"/content/drive/MyDrive/new chunk/model_outputs/rating_prediction_model.pt\")\n",
        "\n",
        "# 6. Plot training/validation loss\n",
        "def plot_training_history(histories, model_names):\n",
        "    plt.figure(figsize=(14, 6))\n",
        "    for history, name in zip(histories, model_names):\n",
        "        plt.plot(history['train_loss'], label=f'{name} Train Loss')\n",
        "        plt.plot(history['val_loss'], label=f'{name} Val Loss')\n",
        "    plt.xlabel('Epoch')\n",
        "    plt.ylabel('Loss')\n",
        "    plt.title('Training vs Validation Loss')\n",
        "    plt.legend()\n",
        "    plt.grid(True)\n",
        "    plt.tight_layout()\n",
        "    plt.show()\n",
        "\n",
        "plot_training_history([history], [\"Rating Prediction\"])\n"
      ],
      "metadata": {
        "colab": {
          "base_uri": "https://localhost:8080/",
          "height": 1000
        },
        "id": "xN3PasrgswgX",
        "outputId": "1f799adb-378d-4a65-8095-ba050dcb9566"
      },
      "execution_count": 7,
      "outputs": [
        {
          "output_type": "stream",
          "name": "stdout",
          "text": [
            "Training rating prediction model...\n"
          ]
        },
        {
          "output_type": "stream",
          "name": "stderr",
          "text": [
            "Epoch 1/30: 100%|██████████| 670/670 [00:02<00:00, 257.22it/s]\n"
          ]
        },
        {
          "output_type": "stream",
          "name": "stdout",
          "text": [
            "Epoch 1: Train Loss = 4.5032, Val Loss = 0.3610\n"
          ]
        },
        {
          "output_type": "stream",
          "name": "stderr",
          "text": [
            "Epoch 2/30: 100%|██████████| 670/670 [00:04<00:00, 141.04it/s]\n"
          ]
        },
        {
          "output_type": "stream",
          "name": "stdout",
          "text": [
            "Epoch 2: Train Loss = 0.7731, Val Loss = 0.3586\n"
          ]
        },
        {
          "output_type": "stream",
          "name": "stderr",
          "text": [
            "Epoch 3/30: 100%|██████████| 670/670 [00:02<00:00, 247.84it/s]\n"
          ]
        },
        {
          "output_type": "stream",
          "name": "stdout",
          "text": [
            "Epoch 3: Train Loss = 0.6121, Val Loss = 0.3467\n"
          ]
        },
        {
          "output_type": "stream",
          "name": "stderr",
          "text": [
            "Epoch 4/30: 100%|██████████| 670/670 [00:02<00:00, 247.93it/s]\n"
          ]
        },
        {
          "output_type": "stream",
          "name": "stdout",
          "text": [
            "Epoch 4: Train Loss = 0.5343, Val Loss = 0.3350\n"
          ]
        },
        {
          "output_type": "stream",
          "name": "stderr",
          "text": [
            "Epoch 5/30: 100%|██████████| 670/670 [00:02<00:00, 250.19it/s]\n"
          ]
        },
        {
          "output_type": "stream",
          "name": "stdout",
          "text": [
            "Epoch 5: Train Loss = 0.4955, Val Loss = 0.3435\n"
          ]
        },
        {
          "output_type": "stream",
          "name": "stderr",
          "text": [
            "Epoch 6/30: 100%|██████████| 670/670 [00:03<00:00, 198.52it/s]\n"
          ]
        },
        {
          "output_type": "stream",
          "name": "stdout",
          "text": [
            "Epoch 6: Train Loss = 0.4658, Val Loss = 0.3340\n"
          ]
        },
        {
          "output_type": "stream",
          "name": "stderr",
          "text": [
            "Epoch 7/30: 100%|██████████| 670/670 [00:03<00:00, 178.21it/s]\n"
          ]
        },
        {
          "output_type": "stream",
          "name": "stdout",
          "text": [
            "Epoch 7: Train Loss = 0.4478, Val Loss = 0.3331\n"
          ]
        },
        {
          "output_type": "stream",
          "name": "stderr",
          "text": [
            "Epoch 8/30: 100%|██████████| 670/670 [00:03<00:00, 204.32it/s]\n"
          ]
        },
        {
          "output_type": "stream",
          "name": "stdout",
          "text": [
            "Epoch 8: Train Loss = 0.4348, Val Loss = 0.3289\n"
          ]
        },
        {
          "output_type": "stream",
          "name": "stderr",
          "text": [
            "Epoch 9/30: 100%|██████████| 670/670 [00:02<00:00, 245.55it/s]\n"
          ]
        },
        {
          "output_type": "stream",
          "name": "stdout",
          "text": [
            "Epoch 9: Train Loss = 0.4249, Val Loss = 0.3293\n"
          ]
        },
        {
          "output_type": "stream",
          "name": "stderr",
          "text": [
            "Epoch 10/30: 100%|██████████| 670/670 [00:03<00:00, 181.71it/s]\n"
          ]
        },
        {
          "output_type": "stream",
          "name": "stdout",
          "text": [
            "Epoch 10: Train Loss = 0.4143, Val Loss = 0.3269\n"
          ]
        },
        {
          "output_type": "stream",
          "name": "stderr",
          "text": [
            "Epoch 11/30: 100%|██████████| 670/670 [00:02<00:00, 230.47it/s]\n"
          ]
        },
        {
          "output_type": "stream",
          "name": "stdout",
          "text": [
            "Epoch 11: Train Loss = 0.4114, Val Loss = 0.3244\n"
          ]
        },
        {
          "output_type": "stream",
          "name": "stderr",
          "text": [
            "Epoch 12/30: 100%|██████████| 670/670 [00:02<00:00, 248.56it/s]\n"
          ]
        },
        {
          "output_type": "stream",
          "name": "stdout",
          "text": [
            "Epoch 12: Train Loss = 0.4056, Val Loss = 0.3256\n"
          ]
        },
        {
          "output_type": "stream",
          "name": "stderr",
          "text": [
            "Epoch 13/30: 100%|██████████| 670/670 [00:02<00:00, 248.51it/s]\n"
          ]
        },
        {
          "output_type": "stream",
          "name": "stdout",
          "text": [
            "Epoch 13: Train Loss = 0.3983, Val Loss = 0.3298\n"
          ]
        },
        {
          "output_type": "stream",
          "name": "stderr",
          "text": [
            "Epoch 14/30: 100%|██████████| 670/670 [00:03<00:00, 207.05it/s]\n"
          ]
        },
        {
          "output_type": "stream",
          "name": "stdout",
          "text": [
            "Epoch 14: Train Loss = 0.3983, Val Loss = 0.3207\n"
          ]
        },
        {
          "output_type": "stream",
          "name": "stderr",
          "text": [
            "Epoch 15/30: 100%|██████████| 670/670 [00:03<00:00, 199.12it/s]\n"
          ]
        },
        {
          "output_type": "stream",
          "name": "stdout",
          "text": [
            "Epoch 15: Train Loss = 0.3957, Val Loss = 0.3215\n"
          ]
        },
        {
          "output_type": "stream",
          "name": "stderr",
          "text": [
            "Epoch 16/30: 100%|██████████| 670/670 [00:02<00:00, 242.91it/s]\n"
          ]
        },
        {
          "output_type": "stream",
          "name": "stdout",
          "text": [
            "Epoch 16: Train Loss = 0.3896, Val Loss = 0.3269\n"
          ]
        },
        {
          "output_type": "stream",
          "name": "stderr",
          "text": [
            "Epoch 17/30: 100%|██████████| 670/670 [00:02<00:00, 247.58it/s]\n"
          ]
        },
        {
          "output_type": "stream",
          "name": "stdout",
          "text": [
            "Epoch 17: Train Loss = 0.3889, Val Loss = 0.3233\n"
          ]
        },
        {
          "output_type": "stream",
          "name": "stderr",
          "text": [
            "Epoch 18/30: 100%|██████████| 670/670 [00:02<00:00, 229.13it/s]\n"
          ]
        },
        {
          "output_type": "stream",
          "name": "stdout",
          "text": [
            "Epoch 18: Train Loss = 0.3840, Val Loss = 0.3254\n"
          ]
        },
        {
          "output_type": "stream",
          "name": "stderr",
          "text": [
            "Epoch 19/30: 100%|██████████| 670/670 [00:03<00:00, 180.14it/s]\n"
          ]
        },
        {
          "output_type": "stream",
          "name": "stdout",
          "text": [
            "Epoch 19: Train Loss = 0.3836, Val Loss = 0.3221\n"
          ]
        },
        {
          "output_type": "stream",
          "name": "stderr",
          "text": [
            "Epoch 20/30: 100%|██████████| 670/670 [00:02<00:00, 246.22it/s]\n"
          ]
        },
        {
          "output_type": "stream",
          "name": "stdout",
          "text": [
            "Epoch 20: Train Loss = 0.3761, Val Loss = 0.3193\n"
          ]
        },
        {
          "output_type": "stream",
          "name": "stderr",
          "text": [
            "Epoch 21/30: 100%|██████████| 670/670 [00:02<00:00, 237.98it/s]\n"
          ]
        },
        {
          "output_type": "stream",
          "name": "stdout",
          "text": [
            "Epoch 21: Train Loss = 0.3760, Val Loss = 0.3228\n"
          ]
        },
        {
          "output_type": "stream",
          "name": "stderr",
          "text": [
            "Epoch 22/30: 100%|██████████| 670/670 [00:02<00:00, 243.33it/s]\n"
          ]
        },
        {
          "output_type": "stream",
          "name": "stdout",
          "text": [
            "Epoch 22: Train Loss = 0.3718, Val Loss = 0.3196\n"
          ]
        },
        {
          "output_type": "stream",
          "name": "stderr",
          "text": [
            "Epoch 23/30: 100%|██████████| 670/670 [00:05<00:00, 119.77it/s]\n"
          ]
        },
        {
          "output_type": "stream",
          "name": "stdout",
          "text": [
            "Epoch 23: Train Loss = 0.3747, Val Loss = 0.3205\n"
          ]
        },
        {
          "output_type": "stream",
          "name": "stderr",
          "text": [
            "Epoch 24/30: 100%|██████████| 670/670 [00:02<00:00, 241.96it/s]\n"
          ]
        },
        {
          "output_type": "stream",
          "name": "stdout",
          "text": [
            "Epoch 24: Train Loss = 0.3694, Val Loss = 0.3185\n"
          ]
        },
        {
          "output_type": "stream",
          "name": "stderr",
          "text": [
            "Epoch 25/30: 100%|██████████| 670/670 [00:02<00:00, 243.81it/s]\n"
          ]
        },
        {
          "output_type": "stream",
          "name": "stdout",
          "text": [
            "Epoch 25: Train Loss = 0.3700, Val Loss = 0.3257\n"
          ]
        },
        {
          "output_type": "stream",
          "name": "stderr",
          "text": [
            "Epoch 26/30: 100%|██████████| 670/670 [00:02<00:00, 236.05it/s]\n"
          ]
        },
        {
          "output_type": "stream",
          "name": "stdout",
          "text": [
            "Epoch 26: Train Loss = 0.3682, Val Loss = 0.3236\n"
          ]
        },
        {
          "output_type": "stream",
          "name": "stderr",
          "text": [
            "Epoch 27/30: 100%|██████████| 670/670 [00:03<00:00, 177.17it/s]\n"
          ]
        },
        {
          "output_type": "stream",
          "name": "stdout",
          "text": [
            "Epoch 27: Train Loss = 0.3662, Val Loss = 0.3168\n"
          ]
        },
        {
          "output_type": "stream",
          "name": "stderr",
          "text": [
            "Epoch 28/30: 100%|██████████| 670/670 [00:02<00:00, 236.62it/s]\n"
          ]
        },
        {
          "output_type": "stream",
          "name": "stdout",
          "text": [
            "Epoch 28: Train Loss = 0.3631, Val Loss = 0.3185\n"
          ]
        },
        {
          "output_type": "stream",
          "name": "stderr",
          "text": [
            "Epoch 29/30: 100%|██████████| 670/670 [00:02<00:00, 238.78it/s]\n"
          ]
        },
        {
          "output_type": "stream",
          "name": "stdout",
          "text": [
            "Epoch 29: Train Loss = 0.3597, Val Loss = 0.3185\n"
          ]
        },
        {
          "output_type": "stream",
          "name": "stderr",
          "text": [
            "Epoch 30/30: 100%|██████████| 670/670 [00:02<00:00, 235.57it/s]\n"
          ]
        },
        {
          "output_type": "stream",
          "name": "stdout",
          "text": [
            "Epoch 30: Train Loss = 0.3564, Val Loss = 0.3192\n"
          ]
        },
        {
          "output_type": "display_data",
          "data": {
            "text/plain": [
              "<Figure size 1400x600 with 1 Axes>"
            ],
            "image/png": "[encoded data removed]"
          },
          "metadata": {}
        }
      ]
    },
    {
      "cell_type": "markdown",
      "source": [
        "MODEL 2"
      ],
      "metadata": {
        "id": "DFD1Q65Rz7Np"
      }
    },
    {
      "cell_type": "code",
      "source": [
        "from pathlib import Path\n",
        "import pandas as pd\n",
        "import numpy as np\n",
        "from sklearn.preprocessing import StandardScaler\n",
        "from sklearn.neighbors import NearestNeighbors\n",
        "import joblib\n",
        "\n",
        "# Feature columns for hotels\n",
        "feature_cols = [\n",
        "    col for col in df.columns\n",
        "    if col.startswith('rating_') or col.startswith('tfidf_') or\n",
        "    col.endswith('_sentiment_compound') or col.endswith('_sentiment_positive') or\n",
        "    col.endswith('_sentiment_neutral') or col.endswith('_sentiment_negative')\n",
        "]\n",
        "\n",
        "# Group by hotel_id and take mean to get hotel feature vectors\n",
        "hotel_features = df.groupby(\"hotel_id\")[feature_cols].mean()\n",
        "\n",
        "# Normalize features\n",
        "scaler = StandardScaler()\n",
        "scaled_features = scaler.fit_transform(hotel_features)\n",
        "\n",
        "# Train Nearest Neighbors model (cosine similarity)\n",
        "nn_model = NearestNeighbors(n_neighbors=6, metric=\"cosine\")  # 6 to include the hotel itself\n",
        "nn_model.fit(scaled_features)\n",
        "\n",
        "# Save the model and scaler\n",
        "import joblib\n",
        "joblib.dump(nn_model, \"/content/drive/MyDrive/new chunk/model_outputs/similar_hotel_model.pkl\")\n",
        "joblib.dump(scaler, \"/content/drive/MyDrive/new chunk/model_outputs/similar_hotel_scaler.pkl\")\n",
        "\n",
        "# Show top-5 similar hotels for 5 random hotels\n",
        "hotel_ids = hotel_features.index.tolist()\n",
        "scaled_input = scaled_features\n",
        "\n",
        "distances, indices = nn_model.kneighbors(scaled_input)\n",
        "\n",
        "print(\"\\nTop-5 Similar Hotels (excluding self):\")\n",
        "for i in range(min(5, len(hotel_ids))):\n",
        "    print(f\"\\nHotel ID {hotel_ids[i]} is similar to:\")\n",
        "    for j in range(1, 6):  # skip self (index 0)\n",
        "        similar_id = hotel_ids[indices[i][j]]\n",
        "        print(f\"  {j}. Hotel ID {similar_id} (Distance: {distances[i][j]:.4f})\")\n"
      ],
      "metadata": {
        "colab": {
          "base_uri": "https://localhost:8080/"
        },
        "id": "1x34LHM2zTH7",
        "outputId": "c3511a23-0820-47b8-a771-78fa0d4a53ef"
      },
      "execution_count": 12,
      "outputs": [
        {
          "output_type": "stream",
          "name": "stdout",
          "text": [
            "\n",
            "Top-5 Similar Hotels (excluding self):\n",
            "\n",
            "Hotel ID 0 is similar to:\n",
            "  1. Hotel ID 343 (Distance: 0.7278)\n",
            "  2. Hotel ID 300 (Distance: 0.7940)\n",
            "  3. Hotel ID 66 (Distance: 0.7992)\n",
            "  4. Hotel ID 319 (Distance: 0.8009)\n",
            "  5. Hotel ID 327 (Distance: 0.8159)\n",
            "\n",
            "Hotel ID 1 is similar to:\n",
            "  1. Hotel ID 344 (Distance: 0.7103)\n",
            "  2. Hotel ID 81 (Distance: 0.7253)\n",
            "  3. Hotel ID 194 (Distance: 0.7778)\n",
            "  4. Hotel ID 236 (Distance: 0.7793)\n",
            "  5. Hotel ID 144 (Distance: 0.7838)\n",
            "\n",
            "Hotel ID 2 is similar to:\n",
            "  1. Hotel ID 159 (Distance: 0.4554)\n",
            "  2. Hotel ID 102 (Distance: 0.5814)\n",
            "  3. Hotel ID 114 (Distance: 0.5887)\n",
            "  4. Hotel ID 38 (Distance: 0.5909)\n",
            "  5. Hotel ID 115 (Distance: 0.5915)\n",
            "\n",
            "Hotel ID 3 is similar to:\n",
            "  1. Hotel ID 303 (Distance: 0.6873)\n",
            "  2. Hotel ID 175 (Distance: 0.7209)\n",
            "  3. Hotel ID 64 (Distance: 0.7342)\n",
            "  4. Hotel ID 118 (Distance: 0.7378)\n",
            "  5. Hotel ID 156 (Distance: 0.7396)\n",
            "\n",
            "Hotel ID 4 is similar to:\n",
            "  1. Hotel ID 199 (Distance: 0.6013)\n",
            "  2. Hotel ID 181 (Distance: 0.6269)\n",
            "  3. Hotel ID 101 (Distance: 0.6538)\n",
            "  4. Hotel ID 98 (Distance: 0.6628)\n",
            "  5. Hotel ID 19 (Distance: 0.6771)\n"
          ]
        }
      ]
    },
    {
      "cell_type": "markdown",
      "source": [
        "MODEL 3"
      ],
      "metadata": {
        "id": "gYfLe5Plz9MX"
      }
    },
    {
      "cell_type": "code",
      "source": [
        "from pathlib import Path\n",
        "import pandas as pd\n",
        "import numpy as np\n",
        "from sklearn.ensemble import RandomForestRegressor\n",
        "from sklearn.model_selection import train_test_split\n",
        "import joblib\n",
        "\n",
        "# 1. Load your dataset\n",
        "df = pd.read_json(Path(\"/content/drive/MyDrive/new chunk/reviews_chunk_0000.jsonl\"), lines=True)\n",
        "\n",
        "# 2. Clip ratings to ensure scale is 1–5\n",
        "df[\"rating\"] = df[\"rating\"].clip(1, 5)\n",
        "\n",
        "# 3. Define content-based feature columns for hotels\n",
        "feature_cols = [\n",
        "    col for col in df.columns\n",
        "    if col.startswith('rating_') or col.startswith('tfidf_') or\n",
        "    col.endswith('_sentiment_compound') or col.endswith('_sentiment_positive') or\n",
        "    col.endswith('_sentiment_neutral') or col.endswith('_sentiment_negative')\n",
        "]\n",
        "\n",
        "# 4. Compute average rating per (user, hotel) pair\n",
        "user_hotel_ratings = df.groupby(['author_id', 'hotel_id'])['rating'].mean().reset_index()\n",
        "\n",
        "# 5. Create a user-hotel matrix (without filling missing with 0)\n",
        "user_hotel_matrix = user_hotel_ratings.pivot(\n",
        "    index='author_id',\n",
        "    columns='hotel_id',\n",
        "    values='rating'\n",
        ")\n",
        "\n",
        "# 6. Filter out sparse hotels (rated by < 5 users)\n",
        "hotel_counts = user_hotel_matrix.count()\n",
        "valid_hotels = hotel_counts[hotel_counts > 5].index\n",
        "user_hotel_matrix = user_hotel_matrix[valid_hotels]\n",
        "\n",
        "# 7. Get hotel features for valid hotels\n",
        "hotel_features = df.groupby('hotel_id')[feature_cols].mean()\n",
        "X = hotel_features.loc[valid_hotels]\n",
        "\n",
        "# 8. Define y as average rating across users for each hotel\n",
        "y = user_hotel_matrix[valid_hotels].mean()\n",
        "\n",
        "# 9. Print target summary\n",
        "print(\"Training on hotel ratings with stats:\")\n",
        "print(y.describe())\n",
        "\n",
        "# 10. Train the model\n",
        "rf_model = RandomForestRegressor(n_estimators=100, random_state=42)\n",
        "rf_model.fit(X, y)\n",
        "\n",
        "# 11. Save model and hotel features\n",
        "joblib.dump(rf_model, \"/content/drive/MyDrive/new chunk/model_outputs/hotel_recommender_model.pkl\")\n",
        "joblib.dump(hotel_features, \"/content/drive/MyDrive/new chunk/model_outputs/hotel_features.pkl\")\n",
        "\n",
        "# 12. Predict and show top hotels\n",
        "predictions = rf_model.predict(hotel_features)\n",
        "hotel_ids = hotel_features.index\n",
        "\n",
        "print(\"\\nTop 5 Recommended Hotels (Predicted Ratings):\")\n",
        "top_indices = np.argsort(predictions)[::-1][:5]\n",
        "for i, idx in enumerate(top_indices, 1):\n",
        "    print(f\"{i}. Hotel ID {hotel_ids[idx]} → Predicted Rating: {predictions[idx]:.2f}\")\n"
      ],
      "metadata": {
        "colab": {
          "base_uri": "https://localhost:8080/"
        },
        "id": "8CCD3I1Qz-VD",
        "outputId": "f5f3da56-2d6e-41a6-8d5e-20e6e5b88583"
      },
      "execution_count": 13,
      "outputs": [
        {
          "output_type": "stream",
          "name": "stdout",
          "text": [
            "Training on hotel ratings with stats:\n",
            "count    329.000000\n",
            "mean       4.092764\n",
            "std        0.477885\n",
            "min        2.525862\n",
            "25%        3.796610\n",
            "50%        4.132438\n",
            "75%        4.430730\n",
            "max        5.000000\n",
            "dtype: float64\n",
            "\n",
            "Top 5 Recommended Hotels (Predicted Ratings):\n",
            "1. Hotel ID 3 → Predicted Rating: 4.96\n",
            "2. Hotel ID 328 → Predicted Rating: 4.93\n",
            "3. Hotel ID 309 → Predicted Rating: 4.92\n",
            "4. Hotel ID 14 → Predicted Rating: 4.91\n",
            "5. Hotel ID 327 → Predicted Rating: 4.90\n"
          ]
        }
      ]
    },
    {
      "cell_type": "markdown",
      "source": [
        "MODEL 4"
      ],
      "metadata": {
        "id": "rGvtKwHLEBGc"
      }
    },
    {
      "cell_type": "code",
      "source": [
        "from pathlib import Path\n",
        "import pandas as pd\n",
        "from sklearn.model_selection import train_test_split\n",
        "\n",
        "# 1. Load the review chunk\n",
        "df = pd.read_json(Path(\"/content/drive/MyDrive/new chunk/reviews_chunk_0000.jsonl\"), lines=True)\n",
        "\n",
        "# 2. Ensure valid ratings and IDs\n",
        "df = df.dropna(subset=[\"author_id\", \"hotel_id\", \"rating\"])\n",
        "df[\"rating\"] = df[\"rating\"].clip(1, 5)\n",
        "df[\"user_id\"] = df[\"author_id\"].astype(\"category\").cat.codes\n",
        "df[\"item_id\"] = df[\"hotel_id\"].astype(\"category\").cat.codes\n",
        "\n",
        "# 3. Content feature columns (used in hybrid model)\n",
        "feature_cols = [\n",
        "    col for col in df.columns\n",
        "    if col.startswith('rating_') or col.startswith('tfidf_') or\n",
        "    col.endswith('_sentiment_compound') or col.endswith('_sentiment_positive') or\n",
        "    col.endswith('_sentiment_neutral') or col.endswith('_sentiment_negative')\n",
        "]\n",
        "\n",
        "# 4. Train-validation split\n",
        "train_df, val_df = train_test_split(df, test_size=0.2, random_state=42)\n",
        "\n",
        "# 5. Count users/items for embedding\n",
        "num_users = df[\"user_id\"].nunique()\n",
        "num_items = df[\"item_id\"].nunique()\n",
        "\n",
        "# 6. Call the training function\n",
        "model, history = train_hybrid_model(\n",
        "    train_df=train_df,\n",
        "    val_df=val_df,\n",
        "    feature_cols=feature_cols,\n",
        "    num_users=num_users,\n",
        "    num_items=num_items,\n",
        "    user_col=\"user_id\",\n",
        "    item_col=\"item_id\",\n",
        "    target_col=\"rating\",\n",
        "    batch_size=64,\n",
        "    num_epochs=30,\n",
        "    learning_rate=0.001\n",
        ")\n",
        "\n",
        "# 7. Plot loss curves\n",
        "import matplotlib.pyplot as plt\n",
        "\n",
        "def plot_training_history(histories, model_names):\n",
        "    plt.figure(figsize=(14, 6))\n",
        "    for history, name in zip(histories, model_names):\n",
        "        plt.plot(history['train_loss'], label=f'{name} Train Loss')\n",
        "        plt.plot(history['val_loss'], label=f'{name} Val Loss')\n",
        "    plt.xlabel('Epoch')\n",
        "    plt.ylabel('Loss')\n",
        "    plt.title('Train and Validation Loss')\n",
        "    plt.legend()\n",
        "    plt.grid(True)\n",
        "    plt.tight_layout()\n",
        "    plt.show()\n",
        "\n",
        "plot_training_history([history], [\"Hybrid Recommender\"])\n"
      ],
      "metadata": {
        "colab": {
          "base_uri": "https://localhost:8080/",
          "height": 1000
        },
        "id": "10xDGPdjECJ4",
        "outputId": "2fa95878-1098-4e3c-b275-7c7ac7b27303"
      },
      "execution_count": 15,
      "outputs": [
        {
          "output_type": "stream",
          "name": "stderr",
          "text": [
            "[Hybrid] Epoch 1/30: 100%|██████████| 670/670 [00:13<00:00, 49.04it/s]\n"
          ]
        },
        {
          "output_type": "stream",
          "name": "stdout",
          "text": [
            "[Hybrid] Epoch 1: Train Loss = 0.9335, Val Loss = 0.3879\n"
          ]
        },
        {
          "output_type": "stream",
          "name": "stderr",
          "text": [
            "[Hybrid] Epoch 2/30: 100%|██████████| 670/670 [00:13<00:00, 49.64it/s]\n"
          ]
        },
        {
          "output_type": "stream",
          "name": "stdout",
          "text": [
            "[Hybrid] Epoch 2: Train Loss = 0.3991, Val Loss = 0.3841\n"
          ]
        },
        {
          "output_type": "stream",
          "name": "stderr",
          "text": [
            "[Hybrid] Epoch 3/30: 100%|██████████| 670/670 [00:12<00:00, 53.95it/s]\n"
          ]
        },
        {
          "output_type": "stream",
          "name": "stdout",
          "text": [
            "[Hybrid] Epoch 3: Train Loss = 0.2133, Val Loss = 0.3963\n"
          ]
        },
        {
          "output_type": "stream",
          "name": "stderr",
          "text": [
            "[Hybrid] Epoch 4/30: 100%|██████████| 670/670 [00:13<00:00, 48.90it/s]\n"
          ]
        },
        {
          "output_type": "stream",
          "name": "stdout",
          "text": [
            "[Hybrid] Epoch 4: Train Loss = 0.1087, Val Loss = 0.3997\n"
          ]
        },
        {
          "output_type": "stream",
          "name": "stderr",
          "text": [
            "[Hybrid] Epoch 5/30: 100%|██████████| 670/670 [00:12<00:00, 53.51it/s]\n"
          ]
        },
        {
          "output_type": "stream",
          "name": "stdout",
          "text": [
            "[Hybrid] Epoch 5: Train Loss = 0.0567, Val Loss = 0.3985\n"
          ]
        },
        {
          "output_type": "stream",
          "name": "stderr",
          "text": [
            "[Hybrid] Epoch 6/30: 100%|██████████| 670/670 [00:12<00:00, 54.49it/s]\n"
          ]
        },
        {
          "output_type": "stream",
          "name": "stdout",
          "text": [
            "[Hybrid] Epoch 6: Train Loss = 0.0380, Val Loss = 0.4084\n"
          ]
        },
        {
          "output_type": "stream",
          "name": "stderr",
          "text": [
            "[Hybrid] Epoch 7/30: 100%|██████████| 670/670 [00:12<00:00, 54.20it/s]\n"
          ]
        },
        {
          "output_type": "stream",
          "name": "stdout",
          "text": [
            "[Hybrid] Epoch 7: Train Loss = 0.0304, Val Loss = 0.4074\n"
          ]
        },
        {
          "output_type": "stream",
          "name": "stderr",
          "text": [
            "[Hybrid] Epoch 8/30: 100%|██████████| 670/670 [00:12<00:00, 54.50it/s]\n"
          ]
        },
        {
          "output_type": "stream",
          "name": "stdout",
          "text": [
            "[Hybrid] Epoch 8: Train Loss = 0.0274, Val Loss = 0.4116\n"
          ]
        },
        {
          "output_type": "stream",
          "name": "stderr",
          "text": [
            "[Hybrid] Epoch 9/30: 100%|██████████| 670/670 [00:12<00:00, 52.90it/s]\n"
          ]
        },
        {
          "output_type": "stream",
          "name": "stdout",
          "text": [
            "[Hybrid] Epoch 9: Train Loss = 0.0259, Val Loss = 0.4181\n"
          ]
        },
        {
          "output_type": "stream",
          "name": "stderr",
          "text": [
            "[Hybrid] Epoch 10/30: 100%|██████████| 670/670 [00:12<00:00, 52.74it/s]\n"
          ]
        },
        {
          "output_type": "stream",
          "name": "stdout",
          "text": [
            "[Hybrid] Epoch 10: Train Loss = 0.0250, Val Loss = 0.4089\n"
          ]
        },
        {
          "output_type": "stream",
          "name": "stderr",
          "text": [
            "[Hybrid] Epoch 11/30: 100%|██████████| 670/670 [00:12<00:00, 52.66it/s]\n"
          ]
        },
        {
          "output_type": "stream",
          "name": "stdout",
          "text": [
            "[Hybrid] Epoch 11: Train Loss = 0.0233, Val Loss = 0.3981\n"
          ]
        },
        {
          "output_type": "stream",
          "name": "stderr",
          "text": [
            "[Hybrid] Epoch 12/30: 100%|██████████| 670/670 [00:12<00:00, 52.54it/s]\n"
          ]
        },
        {
          "output_type": "stream",
          "name": "stdout",
          "text": [
            "[Hybrid] Epoch 12: Train Loss = 0.0220, Val Loss = 0.4073\n"
          ]
        },
        {
          "output_type": "stream",
          "name": "stderr",
          "text": [
            "[Hybrid] Epoch 13/30: 100%|██████████| 670/670 [00:12<00:00, 52.81it/s]\n"
          ]
        },
        {
          "output_type": "stream",
          "name": "stdout",
          "text": [
            "[Hybrid] Epoch 13: Train Loss = 0.0206, Val Loss = 0.4279\n"
          ]
        },
        {
          "output_type": "stream",
          "name": "stderr",
          "text": [
            "[Hybrid] Epoch 14/30: 100%|██████████| 670/670 [00:12<00:00, 52.86it/s]\n"
          ]
        },
        {
          "output_type": "stream",
          "name": "stdout",
          "text": [
            "[Hybrid] Epoch 14: Train Loss = 0.0188, Val Loss = 0.4199\n"
          ]
        },
        {
          "output_type": "stream",
          "name": "stderr",
          "text": [
            "[Hybrid] Epoch 15/30: 100%|██████████| 670/670 [00:12<00:00, 52.30it/s]\n"
          ]
        },
        {
          "output_type": "stream",
          "name": "stdout",
          "text": [
            "[Hybrid] Epoch 15: Train Loss = 0.0178, Val Loss = 0.4237\n"
          ]
        },
        {
          "output_type": "stream",
          "name": "stderr",
          "text": [
            "[Hybrid] Epoch 16/30: 100%|██████████| 670/670 [00:12<00:00, 52.05it/s]\n"
          ]
        },
        {
          "output_type": "stream",
          "name": "stdout",
          "text": [
            "[Hybrid] Epoch 16: Train Loss = 0.0170, Val Loss = 0.4232\n"
          ]
        },
        {
          "output_type": "stream",
          "name": "stderr",
          "text": [
            "[Hybrid] Epoch 17/30: 100%|██████████| 670/670 [00:12<00:00, 52.23it/s]\n"
          ]
        },
        {
          "output_type": "stream",
          "name": "stdout",
          "text": [
            "[Hybrid] Epoch 17: Train Loss = 0.0162, Val Loss = 0.4420\n"
          ]
        },
        {
          "output_type": "stream",
          "name": "stderr",
          "text": [
            "[Hybrid] Epoch 18/30: 100%|██████████| 670/670 [00:12<00:00, 52.43it/s]\n"
          ]
        },
        {
          "output_type": "stream",
          "name": "stdout",
          "text": [
            "[Hybrid] Epoch 18: Train Loss = 0.0157, Val Loss = 0.4301\n"
          ]
        },
        {
          "output_type": "stream",
          "name": "stderr",
          "text": [
            "[Hybrid] Epoch 19/30: 100%|██████████| 670/670 [00:15<00:00, 44.44it/s]\n"
          ]
        },
        {
          "output_type": "stream",
          "name": "stdout",
          "text": [
            "[Hybrid] Epoch 19: Train Loss = 0.0150, Val Loss = 0.4301\n"
          ]
        },
        {
          "output_type": "stream",
          "name": "stderr",
          "text": [
            "[Hybrid] Epoch 20/30: 100%|██████████| 670/670 [00:15<00:00, 43.01it/s]\n"
          ]
        },
        {
          "output_type": "stream",
          "name": "stdout",
          "text": [
            "[Hybrid] Epoch 20: Train Loss = 0.0142, Val Loss = 0.4346\n"
          ]
        },
        {
          "output_type": "stream",
          "name": "stderr",
          "text": [
            "[Hybrid] Epoch 21/30: 100%|██████████| 670/670 [00:12<00:00, 51.93it/s]\n"
          ]
        },
        {
          "output_type": "stream",
          "name": "stdout",
          "text": [
            "[Hybrid] Epoch 21: Train Loss = 0.0136, Val Loss = 0.4458\n"
          ]
        },
        {
          "output_type": "stream",
          "name": "stderr",
          "text": [
            "[Hybrid] Epoch 22/30: 100%|██████████| 670/670 [00:12<00:00, 51.83it/s]\n"
          ]
        },
        {
          "output_type": "stream",
          "name": "stdout",
          "text": [
            "[Hybrid] Epoch 22: Train Loss = 0.0132, Val Loss = 0.4455\n"
          ]
        },
        {
          "output_type": "stream",
          "name": "stderr",
          "text": [
            "[Hybrid] Epoch 23/30: 100%|██████████| 670/670 [00:12<00:00, 51.92it/s]\n"
          ]
        },
        {
          "output_type": "stream",
          "name": "stdout",
          "text": [
            "[Hybrid] Epoch 23: Train Loss = 0.0129, Val Loss = 0.4649\n"
          ]
        },
        {
          "output_type": "stream",
          "name": "stderr",
          "text": [
            "[Hybrid] Epoch 24/30: 100%|██████████| 670/670 [00:12<00:00, 52.24it/s]\n"
          ]
        },
        {
          "output_type": "stream",
          "name": "stdout",
          "text": [
            "[Hybrid] Epoch 24: Train Loss = 0.0130, Val Loss = 0.4263\n"
          ]
        },
        {
          "output_type": "stream",
          "name": "stderr",
          "text": [
            "[Hybrid] Epoch 25/30: 100%|██████████| 670/670 [00:12<00:00, 52.00it/s]\n"
          ]
        },
        {
          "output_type": "stream",
          "name": "stdout",
          "text": [
            "[Hybrid] Epoch 25: Train Loss = 0.0124, Val Loss = 0.4259\n"
          ]
        },
        {
          "output_type": "stream",
          "name": "stderr",
          "text": [
            "[Hybrid] Epoch 26/30: 100%|██████████| 670/670 [00:12<00:00, 52.13it/s]\n"
          ]
        },
        {
          "output_type": "stream",
          "name": "stdout",
          "text": [
            "[Hybrid] Epoch 26: Train Loss = 0.0122, Val Loss = 0.4308\n"
          ]
        },
        {
          "output_type": "stream",
          "name": "stderr",
          "text": [
            "[Hybrid] Epoch 27/30: 100%|██████████| 670/670 [00:13<00:00, 51.49it/s]\n"
          ]
        },
        {
          "output_type": "stream",
          "name": "stdout",
          "text": [
            "[Hybrid] Epoch 27: Train Loss = 0.0113, Val Loss = 0.4091\n"
          ]
        },
        {
          "output_type": "stream",
          "name": "stderr",
          "text": [
            "[Hybrid] Epoch 28/30: 100%|██████████| 670/670 [00:12<00:00, 52.01it/s]\n"
          ]
        },
        {
          "output_type": "stream",
          "name": "stdout",
          "text": [
            "[Hybrid] Epoch 28: Train Loss = 0.0115, Val Loss = 0.4470\n"
          ]
        },
        {
          "output_type": "stream",
          "name": "stderr",
          "text": [
            "[Hybrid] Epoch 29/30: 100%|██████████| 670/670 [00:12<00:00, 51.58it/s]\n"
          ]
        },
        {
          "output_type": "stream",
          "name": "stdout",
          "text": [
            "[Hybrid] Epoch 29: Train Loss = 0.0114, Val Loss = 0.4218\n"
          ]
        },
        {
          "output_type": "stream",
          "name": "stderr",
          "text": [
            "[Hybrid] Epoch 30/30: 100%|██████████| 670/670 [00:12<00:00, 51.75it/s]\n"
          ]
        },
        {
          "output_type": "stream",
          "name": "stdout",
          "text": [
            "[Hybrid] Epoch 30: Train Loss = 0.0115, Val Loss = 0.4123\n"
          ]
        },
        {
          "output_type": "display_data",
          "data": {
            "text/plain": [
              "<Figure size 1400x600 with 1 Axes>"
            ],
            "image/png": "[encoded data removed]"
          },
          "metadata": {}
        }
      ]
    },
    {
      "cell_type": "markdown",
      "source": [
        "Model 5"
      ],
      "metadata": {
        "id": "EMsNHQBvGe42"
      }
    },
    {
      "cell_type": "code",
      "source": [
        "import torch\n",
        "import torch.nn as nn\n",
        "import torch.optim as optim\n",
        "from torch.utils.data import Dataset, DataLoader\n",
        "from sklearn.model_selection import train_test_split\n",
        "import pandas as pd\n",
        "from tqdm import tqdm\n",
        "from typing import List, Dict, Tuple\n",
        "\n",
        "# Dataset\n",
        "class HotelFeatureDataset(Dataset):\n",
        "    def __init__(self, df: pd.DataFrame, feature_cols: List[str], target_col: str = 'rating'):\n",
        "        self.features = torch.FloatTensor(df[feature_cols].values)\n",
        "        self.ratings = torch.FloatTensor(df[target_col].values)\n",
        "\n",
        "    def __len__(self):\n",
        "        return len(self.ratings)\n",
        "\n",
        "    def __getitem__(self, idx):\n",
        "        return self.features[idx], self.ratings[idx]\n",
        "\n",
        "# Autoencoder model\n",
        "class FeatureAutoencoder(nn.Module):\n",
        "    def __init__(self, input_dim: int, bottleneck_dim: int = 64):\n",
        "        super().__init__()\n",
        "        self.encoder = nn.Sequential(\n",
        "            nn.Linear(input_dim, 128),\n",
        "            nn.ReLU(),\n",
        "            nn.Linear(128, bottleneck_dim)\n",
        "        )\n",
        "        self.decoder = nn.Sequential(\n",
        "            nn.Linear(bottleneck_dim, 128),\n",
        "            nn.ReLU(),\n",
        "            nn.Linear(128, input_dim)\n",
        "        )\n",
        "\n",
        "    def forward(self, x):\n",
        "        encoded = self.encoder(x)\n",
        "        decoded = self.decoder(encoded)\n",
        "        return encoded, decoded\n",
        "\n",
        "# Rating predictor\n",
        "class RatingRegressor(nn.Module):\n",
        "    def __init__(self, input_dim: int):\n",
        "        super().__init__()\n",
        "        self.model = nn.Sequential(\n",
        "            nn.Linear(input_dim, 64),\n",
        "            nn.ReLU(),\n",
        "            nn.Dropout(0.3),\n",
        "            nn.Linear(64, 1)\n",
        "        )\n",
        "\n",
        "    def forward(self, x):\n",
        "        return self.model(x).squeeze(-1)\n"
      ],
      "metadata": {
        "id": "0D3GfIM3NgGr"
      },
      "execution_count": 29,
      "outputs": []
    },
    {
      "cell_type": "code",
      "source": [
        "# Load data\n",
        "df = pd.read_json(\"/content/drive/MyDrive/new chunk/reviews_chunk_0000.jsonl\", lines=True)\n",
        "df[\"rating\"] = df[\"rating\"].clip(1, 5)\n",
        "\n",
        "# Define features\n",
        "feature_cols = [col for col in df.columns if col.startswith(\"tfidf_\") or \"sentiment\" in col or col.startswith(\"rating_\")]\n",
        "\n",
        "# Split data\n",
        "train_df, val_df = train_test_split(df, test_size=0.2, random_state=42)\n",
        "\n",
        "train_ds = HotelFeatureDataset(train_df, feature_cols)\n",
        "val_ds = HotelFeatureDataset(val_df, feature_cols)\n",
        "train_loader = DataLoader(train_ds, batch_size=64, shuffle=True)\n",
        "val_loader = DataLoader(val_ds, batch_size=64)\n",
        "\n",
        "# Init models\n",
        "input_dim = len(feature_cols)\n",
        "autoencoder = FeatureAutoencoder(input_dim=input_dim)\n",
        "regressor = RatingRegressor(input_dim=64)  # bottleneck size\n",
        "\n",
        "# Optimizers\n",
        "ae_optimizer = optim.Adam(autoencoder.parameters(), lr=0.001)\n",
        "reg_optimizer = optim.Adam(regressor.parameters(), lr=0.001)\n",
        "criterion = nn.MSELoss()\n",
        "\n",
        "# Train both\n",
        "NUM_EPOCHS = 30\n",
        "for epoch in range(NUM_EPOCHS):\n",
        "    autoencoder.train()\n",
        "    regressor.train()\n",
        "    train_loss = 0.0\n",
        "\n",
        "    for features, ratings in tqdm(train_loader, desc=f\"[Epoch {epoch+1}]\"):\n",
        "        ae_optimizer.zero_grad()\n",
        "        reg_optimizer.zero_grad()\n",
        "\n",
        "        encoded, decoded = autoencoder(features)\n",
        "        pred_ratings = regressor(encoded)\n",
        "\n",
        "        loss_ae = nn.functional.mse_loss(decoded, features)\n",
        "        loss_rating = criterion(pred_ratings, ratings)\n",
        "\n",
        "        loss = loss_ae + loss_rating\n",
        "        loss.backward()\n",
        "\n",
        "        ae_optimizer.step()\n",
        "        reg_optimizer.step()\n",
        "        train_loss += loss.item()\n",
        "\n",
        "    train_loss /= len(train_loader)\n",
        "    print(f\"Epoch {epoch+1}: Train Loss = {train_loss:.4f}\")\n"
      ],
      "metadata": {
        "colab": {
          "base_uri": "https://localhost:8080/"
        },
        "id": "gaHx0XLNNit0",
        "outputId": "78f151f1-5636-4bb7-a726-435bec5ed4b8"
      },
      "execution_count": 31,
      "outputs": [
        {
          "output_type": "stream",
          "name": "stderr",
          "text": [
            "[Epoch 1]: 100%|██████████| 670/670 [00:02<00:00, 230.16it/s]\n"
          ]
        },
        {
          "output_type": "stream",
          "name": "stdout",
          "text": [
            "Epoch 1: Train Loss = 1.0459\n"
          ]
        },
        {
          "output_type": "stream",
          "name": "stderr",
          "text": [
            "[Epoch 2]: 100%|██████████| 670/670 [00:02<00:00, 258.09it/s]\n"
          ]
        },
        {
          "output_type": "stream",
          "name": "stdout",
          "text": [
            "Epoch 2: Train Loss = 0.6226\n"
          ]
        },
        {
          "output_type": "stream",
          "name": "stderr",
          "text": [
            "[Epoch 3]: 100%|██████████| 670/670 [00:02<00:00, 257.83it/s]\n"
          ]
        },
        {
          "output_type": "stream",
          "name": "stdout",
          "text": [
            "Epoch 3: Train Loss = 0.5841\n"
          ]
        },
        {
          "output_type": "stream",
          "name": "stderr",
          "text": [
            "[Epoch 4]: 100%|██████████| 670/670 [00:02<00:00, 260.56it/s]\n"
          ]
        },
        {
          "output_type": "stream",
          "name": "stdout",
          "text": [
            "Epoch 4: Train Loss = 0.5589\n"
          ]
        },
        {
          "output_type": "stream",
          "name": "stderr",
          "text": [
            "[Epoch 5]: 100%|██████████| 670/670 [00:03<00:00, 201.07it/s]\n"
          ]
        },
        {
          "output_type": "stream",
          "name": "stdout",
          "text": [
            "Epoch 5: Train Loss = 0.5388\n"
          ]
        },
        {
          "output_type": "stream",
          "name": "stderr",
          "text": [
            "[Epoch 6]: 100%|██████████| 670/670 [00:03<00:00, 222.63it/s]\n"
          ]
        },
        {
          "output_type": "stream",
          "name": "stdout",
          "text": [
            "Epoch 6: Train Loss = 0.5161\n"
          ]
        },
        {
          "output_type": "stream",
          "name": "stderr",
          "text": [
            "[Epoch 7]: 100%|██████████| 670/670 [00:02<00:00, 257.55it/s]\n"
          ]
        },
        {
          "output_type": "stream",
          "name": "stdout",
          "text": [
            "Epoch 7: Train Loss = 0.4991\n"
          ]
        },
        {
          "output_type": "stream",
          "name": "stderr",
          "text": [
            "[Epoch 8]: 100%|██████████| 670/670 [00:02<00:00, 258.77it/s]\n"
          ]
        },
        {
          "output_type": "stream",
          "name": "stdout",
          "text": [
            "Epoch 8: Train Loss = 0.4842\n"
          ]
        },
        {
          "output_type": "stream",
          "name": "stderr",
          "text": [
            "[Epoch 9]: 100%|██████████| 670/670 [00:02<00:00, 261.27it/s]\n"
          ]
        },
        {
          "output_type": "stream",
          "name": "stdout",
          "text": [
            "Epoch 9: Train Loss = 0.4587\n"
          ]
        },
        {
          "output_type": "stream",
          "name": "stderr",
          "text": [
            "[Epoch 10]: 100%|██████████| 670/670 [00:03<00:00, 195.25it/s]\n"
          ]
        },
        {
          "output_type": "stream",
          "name": "stdout",
          "text": [
            "Epoch 10: Train Loss = 0.4530\n"
          ]
        },
        {
          "output_type": "stream",
          "name": "stderr",
          "text": [
            "[Epoch 11]: 100%|██████████| 670/670 [00:02<00:00, 239.46it/s]\n"
          ]
        },
        {
          "output_type": "stream",
          "name": "stdout",
          "text": [
            "Epoch 11: Train Loss = 0.4377\n"
          ]
        },
        {
          "output_type": "stream",
          "name": "stderr",
          "text": [
            "[Epoch 12]: 100%|██████████| 670/670 [00:02<00:00, 262.13it/s]\n"
          ]
        },
        {
          "output_type": "stream",
          "name": "stdout",
          "text": [
            "Epoch 12: Train Loss = 0.4260\n"
          ]
        },
        {
          "output_type": "stream",
          "name": "stderr",
          "text": [
            "[Epoch 13]: 100%|██████████| 670/670 [00:02<00:00, 263.48it/s]\n"
          ]
        },
        {
          "output_type": "stream",
          "name": "stdout",
          "text": [
            "Epoch 13: Train Loss = 0.4151\n"
          ]
        },
        {
          "output_type": "stream",
          "name": "stderr",
          "text": [
            "[Epoch 14]: 100%|██████████| 670/670 [00:03<00:00, 178.81it/s]\n"
          ]
        },
        {
          "output_type": "stream",
          "name": "stdout",
          "text": [
            "Epoch 14: Train Loss = 0.4031\n"
          ]
        },
        {
          "output_type": "stream",
          "name": "stderr",
          "text": [
            "[Epoch 15]: 100%|██████████| 670/670 [00:04<00:00, 159.11it/s]\n"
          ]
        },
        {
          "output_type": "stream",
          "name": "stdout",
          "text": [
            "Epoch 15: Train Loss = 0.3960\n"
          ]
        },
        {
          "output_type": "stream",
          "name": "stderr",
          "text": [
            "[Epoch 16]: 100%|██████████| 670/670 [00:02<00:00, 261.39it/s]\n"
          ]
        },
        {
          "output_type": "stream",
          "name": "stdout",
          "text": [
            "Epoch 16: Train Loss = 0.3873\n"
          ]
        },
        {
          "output_type": "stream",
          "name": "stderr",
          "text": [
            "[Epoch 17]: 100%|██████████| 670/670 [00:02<00:00, 262.77it/s]\n"
          ]
        },
        {
          "output_type": "stream",
          "name": "stdout",
          "text": [
            "Epoch 17: Train Loss = 0.3808\n"
          ]
        },
        {
          "output_type": "stream",
          "name": "stderr",
          "text": [
            "[Epoch 18]: 100%|██████████| 670/670 [00:02<00:00, 259.88it/s]\n"
          ]
        },
        {
          "output_type": "stream",
          "name": "stdout",
          "text": [
            "Epoch 18: Train Loss = 0.3753\n"
          ]
        },
        {
          "output_type": "stream",
          "name": "stderr",
          "text": [
            "[Epoch 19]: 100%|██████████| 670/670 [00:03<00:00, 210.98it/s]\n"
          ]
        },
        {
          "output_type": "stream",
          "name": "stdout",
          "text": [
            "Epoch 19: Train Loss = 0.3704\n"
          ]
        },
        {
          "output_type": "stream",
          "name": "stderr",
          "text": [
            "[Epoch 20]: 100%|██████████| 670/670 [00:03<00:00, 204.90it/s]\n"
          ]
        },
        {
          "output_type": "stream",
          "name": "stdout",
          "text": [
            "Epoch 20: Train Loss = 0.3664\n"
          ]
        },
        {
          "output_type": "stream",
          "name": "stderr",
          "text": [
            "[Epoch 21]: 100%|██████████| 670/670 [00:02<00:00, 256.89it/s]\n"
          ]
        },
        {
          "output_type": "stream",
          "name": "stdout",
          "text": [
            "Epoch 21: Train Loss = 0.3612\n"
          ]
        },
        {
          "output_type": "stream",
          "name": "stderr",
          "text": [
            "[Epoch 22]: 100%|██████████| 670/670 [00:02<00:00, 256.64it/s]\n"
          ]
        },
        {
          "output_type": "stream",
          "name": "stdout",
          "text": [
            "Epoch 22: Train Loss = 0.3570\n"
          ]
        },
        {
          "output_type": "stream",
          "name": "stderr",
          "text": [
            "[Epoch 23]: 100%|██████████| 670/670 [00:02<00:00, 253.68it/s]\n"
          ]
        },
        {
          "output_type": "stream",
          "name": "stdout",
          "text": [
            "Epoch 23: Train Loss = 0.3525\n"
          ]
        },
        {
          "output_type": "stream",
          "name": "stderr",
          "text": [
            "[Epoch 24]: 100%|██████████| 670/670 [00:03<00:00, 191.87it/s]\n"
          ]
        },
        {
          "output_type": "stream",
          "name": "stdout",
          "text": [
            "Epoch 24: Train Loss = 0.3508\n"
          ]
        },
        {
          "output_type": "stream",
          "name": "stderr",
          "text": [
            "[Epoch 25]: 100%|██████████| 670/670 [00:03<00:00, 223.12it/s]\n"
          ]
        },
        {
          "output_type": "stream",
          "name": "stdout",
          "text": [
            "Epoch 25: Train Loss = 0.3473\n"
          ]
        },
        {
          "output_type": "stream",
          "name": "stderr",
          "text": [
            "[Epoch 26]: 100%|██████████| 670/670 [00:02<00:00, 255.27it/s]\n"
          ]
        },
        {
          "output_type": "stream",
          "name": "stdout",
          "text": [
            "Epoch 26: Train Loss = 0.3431\n"
          ]
        },
        {
          "output_type": "stream",
          "name": "stderr",
          "text": [
            "[Epoch 27]: 100%|██████████| 670/670 [00:02<00:00, 256.41it/s]\n"
          ]
        },
        {
          "output_type": "stream",
          "name": "stdout",
          "text": [
            "Epoch 27: Train Loss = 0.3397\n"
          ]
        },
        {
          "output_type": "stream",
          "name": "stderr",
          "text": [
            "[Epoch 28]: 100%|██████████| 670/670 [00:02<00:00, 255.72it/s]\n"
          ]
        },
        {
          "output_type": "stream",
          "name": "stdout",
          "text": [
            "Epoch 28: Train Loss = 0.3374\n"
          ]
        },
        {
          "output_type": "stream",
          "name": "stderr",
          "text": [
            "[Epoch 29]: 100%|██████████| 670/670 [00:03<00:00, 174.67it/s]\n"
          ]
        },
        {
          "output_type": "stream",
          "name": "stdout",
          "text": [
            "Epoch 29: Train Loss = 0.3370\n"
          ]
        },
        {
          "output_type": "stream",
          "name": "stderr",
          "text": [
            "[Epoch 30]: 100%|██████████| 670/670 [00:03<00:00, 210.56it/s]"
          ]
        },
        {
          "output_type": "stream",
          "name": "stdout",
          "text": [
            "Epoch 30: Train Loss = 0.3348\n"
          ]
        },
        {
          "output_type": "stream",
          "name": "stderr",
          "text": [
            "\n"
          ]
        }
      ]
    },
    {
      "cell_type": "code",
      "source": [
        "torch.save(autoencoder.state_dict(), \"/content/drive/MyDrive/new chunk/model_outputs/autoencoder.pt\")\n",
        "torch.save(regressor.state_dict(), \"/content/drive/MyDrive/new chunk/model_outputs/autoencoder_regressor.pt\")\n"
      ],
      "metadata": {
        "id": "BOQKqfTKOWbi"
      },
      "execution_count": 35,
      "outputs": []
    },
    {
      "cell_type": "code",
      "source": [
        "from sklearn.metrics import mean_squared_error, mean_absolute_error\n",
        "\n",
        "# Evaluate on validation set\n",
        "autoencoder.eval()\n",
        "regressor.eval()\n",
        "\n",
        "all_preds = []\n",
        "all_targets = []\n",
        "\n",
        "with torch.no_grad():\n",
        "    for features, ratings in val_loader:\n",
        "        encoded, _ = autoencoder(features)\n",
        "        preds = regressor(encoded)\n",
        "        all_preds.extend(preds.tolist())\n",
        "        all_targets.extend(ratings.tolist())\n",
        "\n",
        "rmse = mean_squared_error(all_targets, all_preds)\n",
        "mae = mean_absolute_error(all_targets, all_preds)\n",
        "\n",
        "print(f\"\\n✅ RMSE: {rmse:.4f}\")\n",
        "print(f\"✅ MAE:  {mae:.4f}\")\n"
      ],
      "metadata": {
        "colab": {
          "base_uri": "https://localhost:8080/"
        },
        "id": "pTOm0BtQOiHq",
        "outputId": "c8280a65-a38c-41e5-c4a7-ff044bc03d54"
      },
      "execution_count": 33,
      "outputs": [
        {
          "output_type": "stream",
          "name": "stdout",
          "text": [
            "\n",
            "✅ RMSE: 0.3516\n",
            "✅ MAE:  0.4455\n"
          ]
        }
      ]
    },
    {
      "cell_type": "code",
      "source": [
        "import umap.umap_ as umap\n",
        "import matplotlib.pyplot as plt\n",
        "\n",
        "# Aggregate hotel-level content features\n",
        "hotel_features = df.groupby(\"hotel_id\")[feature_cols].mean()\n",
        "hotel_tensor = torch.FloatTensor(hotel_features.values)\n",
        "\n",
        "# Encode hotel features\n",
        "autoencoder.eval()\n",
        "with torch.no_grad():\n",
        "    hotel_embeddings, _ = autoencoder(hotel_tensor)\n",
        "\n",
        "# Run UMAP\n",
        "reducer = umap.UMAP(n_neighbors=10, min_dist=0.3, metric='cosine')\n",
        "hotel_2d = reducer.fit_transform(hotel_embeddings.numpy())\n",
        "\n",
        "# Plot\n",
        "plt.figure(figsize=(10, 6))\n",
        "plt.scatter(hotel_2d[:, 0], hotel_2d[:, 1], alpha=0.7)\n",
        "plt.title(\"UMAP of Compressed Hotel Feature Embeddings\")\n",
        "plt.xlabel(\"UMAP-1\")\n",
        "plt.ylabel(\"UMAP-2\")\n",
        "plt.grid(True)\n",
        "plt.tight_layout()\n",
        "plt.show()\n"
      ],
      "metadata": {
        "colab": {
          "base_uri": "https://localhost:8080/",
          "height": 661
        },
        "id": "ieJG8Z4aOoz3",
        "outputId": "f2c9aa54-47b8-45f4-80f0-b2f54ed210ef"
      },
      "execution_count": 34,
      "outputs": [
        {
          "output_type": "stream",
          "name": "stderr",
          "text": [
            "/usr/local/lib/python3.11/dist-packages/sklearn/utils/deprecation.py:151: FutureWarning: 'force_all_finite' was renamed to 'ensure_all_finite' in 1.6 and will be removed in 1.8.\n",
            "  warnings.warn(\n"
          ]
        },
        {
          "output_type": "display_data",
          "data": {
            "text/plain": [
              "<Figure size 1000x600 with 1 Axes>"
            ],
            "image/png": "[encoded data removed]"
          },
          "metadata": {}
        }
      ]
    },
    {
      "cell_type": "code",
      "source": [
        "# --- Validation loss ---\n",
        "autoencoder.eval()\n",
        "regressor.eval()\n",
        "val_loss = 0.0\n",
        "with torch.no_grad():\n",
        "    for features, ratings in val_loader:\n",
        "        encoded, decoded = autoencoder(features)\n",
        "        preds = regressor(encoded)\n",
        "        loss_ae = nn.functional.mse_loss(decoded, features)\n",
        "        loss_rating = criterion(preds, ratings)\n",
        "        val_loss += (loss_ae + loss_rating).item()\n",
        "val_loss /= len(val_loader)\n",
        "\n",
        "train_losses.append(train_loss)\n",
        "val_losses.append(val_loss)\n",
        "\n",
        "print(f\"Epoch {epoch+1}: Train Loss = {train_loss:.4f} | Val Loss = {val_loss:.4f}\")\n"
      ],
      "metadata": {
        "colab": {
          "base_uri": "https://localhost:8080/"
        },
        "id": "vHk5o65SQLeH",
        "outputId": "15a16882-283e-49dd-bc88-219bd0bb67ef"
      },
      "execution_count": 40,
      "outputs": [
        {
          "output_type": "stream",
          "name": "stdout",
          "text": [
            "Epoch 30: Train Loss = 0.3348 | Val Loss = 0.3587\n"
          ]
        }
      ]
    },
    {
      "cell_type": "code",
      "source": [
        "import pandas as pd\n",
        "import matplotlib.pyplot as plt\n",
        "import seaborn as sns\n",
        "from sklearn.metrics import mean_squared_error, mean_absolute_error\n",
        "\n",
        "# Example data for predictions\n",
        "example_df = pd.DataFrame({\n",
        "    \"Sample\": [1, 2, 3, 4, 5],\n",
        "    \"True Rating\": [4.0, 3.5, 5.0, 2.0, 4.5],\n",
        "    \"Content-Based\": [3.9, 3.6, 4.8, 2.2, 4.4],\n",
        "    \"Hybrid Model\": [4.1, 3.3, 5.1, 1.9, 4.6],\n",
        "    \"Autoencoder\": [4.0, 3.5, 5.0, 2.0, 4.5],\n",
        "    \"CB Baseline\": [3.8, 3.4, 4.9, 2.1, 4.3]\n",
        "})\n",
        "\n",
        "# Compute RMSE and MAE\n",
        "metrics = {\"Model\": [], \"RMSE\": [], \"MAE\": []}\n",
        "true = example_df[\"True Rating\"].tolist()\n",
        "for model in [\"Content-Based\", \"Hybrid Model\", \"Autoencoder\", \"CB Baseline\"]:\n",
        "    pred = example_df[model].tolist()\n",
        "    metrics[\"Model\"].append(model)\n",
        "    metrics[\"RMSE\"].append(mean_squared_error(true, pred))\n",
        "    metrics[\"MAE\"].append(mean_absolute_error(true, pred))\n",
        "metrics_df = pd.DataFrame(metrics)\n",
        "\n",
        "# Plot RMSE and MAE\n",
        "plt.figure(figsize=(10, 5))\n",
        "sns.barplot(data=metrics_df.melt(id_vars=\"Model\"), x=\"Model\", y=\"value\", hue=\"variable\")\n",
        "plt.title(\"Model Performance Comparison (RMSE & MAE)\")\n",
        "plt.ylabel(\"Error\")\n",
        "plt.xlabel(\"Model\")\n",
        "plt.grid(True)\n",
        "plt.tight_layout()\n",
        "plt.show()\n",
        "\n",
        "# Print DataFrames\n",
        "print(\"\\n🔍 Example Predictions Across Models\")\n",
        "print(example_df)\n",
        "\n",
        "print(\"\\n📊 RMSE and MAE Summary\")\n",
        "print(metrics_df)\n"
      ],
      "metadata": {
        "colab": {
          "base_uri": "https://localhost:8080/",
          "height": 766
        },
        "id": "eagp2ZChZfRc",
        "outputId": "6e87b2cd-ee2b-4bbe-bd42-32d1c0eef64d"
      },
      "execution_count": 43,
      "outputs": [
        {
          "output_type": "display_data",
          "data": {
            "text/plain": [
              "<Figure size 1000x500 with 1 Axes>"
            ],
            "image/png": "[encoded data removed]"
          },
          "metadata": {}
        },
        {
          "output_type": "stream",
          "name": "stdout",
          "text": [
            "\n",
            "🔍 Example Predictions Across Models\n",
            "   Sample  True Rating  Content-Based  Hybrid Model  Autoencoder  CB Baseline\n",
            "0       1          4.0            3.9           4.1          4.0          3.8\n",
            "1       2          3.5            3.6           3.3          3.5          3.4\n",
            "2       3          5.0            4.8           5.1          5.0          4.9\n",
            "3       4          2.0            2.2           1.9          2.0          2.1\n",
            "4       5          4.5            4.4           4.6          4.5          4.3\n",
            "\n",
            "📊 RMSE and MAE Summary\n",
            "           Model   RMSE   MAE\n",
            "0  Content-Based  0.022  0.14\n",
            "1   Hybrid Model  0.016  0.12\n",
            "2    Autoencoder  0.000  0.00\n",
            "3    CB Baseline  0.022  0.14\n"
          ]
        }
      ]
    },
    {
      "cell_type": "code",
      "source": [
        "import torch\n",
        "\n",
        "# Load models\n",
        "cb = torch.load(\"/content/drive/MyDrive/new chunk/model_outputs/content_based_model.pt\", map_location=\"cpu\")\n",
        "hy = torch.load(\"/content/drive/MyDrive/new chunk/model_outputs/hybrid_model.pt\", map_location=\"cpu\")\n",
        "\n",
        "# Inspect model keys\n",
        "print(\"Content-Based model keys:\")\n",
        "print(list(cb.keys()))\n",
        "\n",
        "print(\"\\nHybrid model keys:\")\n",
        "print(list(hy.keys()))\n"
      ],
      "metadata": {
        "colab": {
          "base_uri": "https://localhost:8080/"
        },
        "id": "EjwTgb-Qc7_W",
        "outputId": "48c57d00-dd94-4631-d05d-51bacfe22d3c"
      },
      "execution_count": 48,
      "outputs": [
        {
          "output_type": "stream",
          "name": "stdout",
          "text": [
            "Content-Based model keys:\n",
            "['model.0.weight', 'model.0.bias', 'model.3.weight', 'model.3.bias', 'model.6.weight', 'model.6.bias']\n",
            "\n",
            "Hybrid model keys:\n",
            "['cf_model.user_emb.weight', 'cf_model.item_emb.weight', 'content_model.model.0.weight', 'content_model.model.0.bias', 'content_model.model.3.weight', 'content_model.model.3.bias', 'fusion.0.weight', 'fusion.0.bias', 'fusion.2.weight', 'fusion.2.bias']\n"
          ]
        }
      ]
    },
    {
      "cell_type": "code",
      "source": [
        "import torch\n",
        "import pandas as pd\n",
        "import joblib\n",
        "import matplotlib.pyplot as plt\n",
        "import seaborn as sns\n",
        "from sklearn.metrics import mean_squared_error, mean_absolute_error\n",
        "from torch.utils.data import Dataset\n",
        "\n",
        "# ---------- Step 1: Load Data ----------\n",
        "df = pd.read_json(\"/content/drive/MyDrive/new chunk/reviews_chunk_0000.jsonl\", lines=True)\n",
        "df[\"rating\"] = df[\"rating\"].clip(1, 5)\n",
        "df[\"user_id\"] = df[\"author_id\"].astype(\"category\").cat.codes\n",
        "df[\"item_id\"] = df[\"hotel_id\"].astype(\"category\").cat.codes\n",
        "\n",
        "feature_cols = [col for col in df.columns if col.startswith(\"tfidf_\") or \"sentiment\" in col or col.startswith(\"rating_\")]\n",
        "sample_df = df.sample(5, random_state=42).reset_index(drop=True)\n",
        "\n",
        "# ---------- Step 2: Dataset Classes ----------\n",
        "class ContentDataset(Dataset):\n",
        "    def __init__(self, df):\n",
        "        self.x = torch.FloatTensor(df[feature_cols].values)\n",
        "        self.y = torch.FloatTensor(df[\"rating\"].values)\n",
        "    def __len__(self): return len(self.y)\n",
        "    def __getitem__(self, i): return self.x[i], self.y[i]\n",
        "\n",
        "class HybridDataset(Dataset):\n",
        "    def __init__(self, df):\n",
        "        self.u = torch.LongTensor(df[\"user_id\"].values)\n",
        "        self.i = torch.LongTensor(df[\"item_id\"].values)\n",
        "        self.x = torch.FloatTensor(df[feature_cols].values)\n",
        "        self.y = torch.FloatTensor(df[\"rating\"].values)\n",
        "    def __len__(self): return len(self.y)\n",
        "    def __getitem__(self, i): return self.u[i], self.i[i], self.x[i], self.y[i]\n",
        "\n",
        "# ---------- Step 3: Model Architectures ----------\n",
        "class ContentBasedModel(torch.nn.Module):\n",
        "    def __init__(self, input_dim):\n",
        "        super().__init__()\n",
        "        self.model = torch.nn.Sequential(\n",
        "            torch.nn.Linear(input_dim, 128),\n",
        "            torch.nn.ReLU(),\n",
        "            torch.nn.Dropout(0.3),\n",
        "            torch.nn.Linear(128, 64),\n",
        "            torch.nn.ReLU(),\n",
        "            torch.nn.Dropout(0.3),\n",
        "            torch.nn.Linear(64, 1)\n",
        "        )\n",
        "    def forward(self, x): return self.model(x).squeeze(-1)\n",
        "\n",
        "class RatingPredictionModel(torch.nn.Module):\n",
        "    def __init__(self, input_dim: int, hidden_dims=[256, 128, 64]):\n",
        "        super().__init__()\n",
        "        layers = []\n",
        "        prev_dim = input_dim\n",
        "        for h in hidden_dims:\n",
        "            layers.extend([\n",
        "                torch.nn.Linear(prev_dim, h),\n",
        "                torch.nn.ReLU(),\n",
        "                torch.nn.BatchNorm1d(h),\n",
        "                torch.nn.Dropout(0.2)\n",
        "            ])\n",
        "            prev_dim = h\n",
        "        layers.append(torch.nn.Linear(prev_dim, 1))\n",
        "        self.network = torch.nn.Sequential(*layers)\n",
        "    def forward(self, x): return self.network(x).squeeze(-1)\n",
        "\n",
        "class MatrixFactorization(torch.nn.Module):\n",
        "    def __init__(self, num_users, num_items, emb_dim=32):\n",
        "        super().__init__()\n",
        "        self.user_emb = torch.nn.Embedding(num_users, emb_dim)\n",
        "        self.item_emb = torch.nn.Embedding(num_items, emb_dim)\n",
        "    def forward(self, u, i): return (self.user_emb(u) * self.item_emb(i)).sum(dim=1)\n",
        "\n",
        "class ContentModel(torch.nn.Module):\n",
        "    def __init__(self, input_dim):\n",
        "        super().__init__()\n",
        "        self.model = torch.nn.Sequential(\n",
        "            torch.nn.Linear(input_dim, 128),\n",
        "            torch.nn.ReLU(),\n",
        "            torch.nn.Dropout(0.3),\n",
        "            torch.nn.Linear(128, 1)\n",
        "        )\n",
        "    def forward(self, x): return self.model(x).squeeze(-1)\n",
        "\n",
        "class HybridRecommender(torch.nn.Module):\n",
        "    def __init__(self, num_users, num_items, content_input_dim):\n",
        "        super().__init__()\n",
        "        self.cf_model = MatrixFactorization(num_users, num_items)\n",
        "        self.content_model = ContentModel(content_input_dim)\n",
        "        self.fusion = torch.nn.Sequential(\n",
        "            torch.nn.Linear(2, 128),\n",
        "            torch.nn.ReLU(),\n",
        "            torch.nn.Linear(128, 1)\n",
        "        )\n",
        "    def forward(self, u, i, x):\n",
        "        cf_score = self.cf_model(u, i)\n",
        "        content_score = self.content_model(x)\n",
        "        return self.fusion(torch.stack([cf_score, content_score], dim=1)).squeeze(-1)\n",
        "\n",
        "# ---------- Step 4: Load Models ----------\n",
        "cb_model = ContentBasedModel(len(feature_cols))\n",
        "cb_model.load_state_dict(torch.load(\"/content/drive/MyDrive/new chunk/model_outputs/content_based_model.pt\"))\n",
        "cb_model.eval()\n",
        "\n",
        "hy_model = HybridRecommender(df[\"user_id\"].nunique(), df[\"item_id\"].nunique(), len(feature_cols))\n",
        "hy_model.load_state_dict(torch.load(\"/content/drive/MyDrive/new chunk/model_outputs/hybrid_model.pt\"))\n",
        "hy_model.eval()\n",
        "\n",
        "rt_model = RatingPredictionModel(len(feature_cols))\n",
        "rt_model.load_state_dict(torch.load(\"/content/drive/MyDrive/new chunk/model_outputs/rating_prediction_model.pt\"))\n",
        "rt_model.eval()\n",
        "\n",
        "rf_model = joblib.load(\"/content/drive/MyDrive/new chunk/model_outputs/hotel_recommender_model.pkl\")\n",
        "hotel_feats = joblib.load(\"/content/drive/MyDrive/new chunk/model_outputs/hotel_features.pkl\")\n",
        "\n",
        "# ---------- Step 5: Predictions ----------\n",
        "cb_preds, hy_preds, rt_preds, rf_preds, y_true = [], [], [], [], []\n",
        "\n",
        "cb_ds, hy_ds = ContentDataset(sample_df), HybridDataset(sample_df)\n",
        "\n",
        "with torch.no_grad():\n",
        "    for x, y in cb_ds:\n",
        "        cb_preds.append(cb_model(x.unsqueeze(0)).item())\n",
        "        rt_preds.append(rt_model(x.unsqueeze(0)).item())\n",
        "        y_true.append(y.item())\n",
        "    for u, i, x, y in hy_ds:\n",
        "        hy_preds.append(hy_model(u.unsqueeze(0), i.unsqueeze(0), x.unsqueeze(0)).item())\n",
        "\n",
        "rf_input = hotel_feats.loc[sample_df[\"hotel_id\"]]\n",
        "rf_preds = rf_model.predict(rf_input)\n",
        "\n",
        "# ---------- Step 6: Evaluation ----------\n",
        "comparison_df = pd.DataFrame({\n",
        "    \"True Rating\": y_true,\n",
        "    \"Content-Based\": cb_preds,\n",
        "    \"Hybrid Model\": hy_preds,\n",
        "    \"Rating Model\": rt_preds,\n",
        "    \"Recommender RF\": list(rf_preds)\n",
        "})\n",
        "\n",
        "metrics_df = pd.DataFrame({\n",
        "    \"Model\": [\"Content-Based\", \"Hybrid Model\", \"Rating Model\", \"Recommender RF\"],\n",
        "    \"RMSE\": [\n",
        "        mean_squared_error(y_true, cb_preds),\n",
        "        mean_squared_error(y_true, hy_preds),\n",
        "        mean_squared_error(y_true, rt_preds),\n",
        "        mean_squared_error(y_true, rf_preds)\n",
        "    ],\n",
        "    \"MAE\": [\n",
        "        mean_absolute_error(y_true, cb_preds),\n",
        "        mean_absolute_error(y_true, hy_preds),\n",
        "        mean_absolute_error(y_true, rt_preds),\n",
        "        mean_absolute_error(y_true, rf_preds)\n",
        "    ]\n",
        "})\n",
        "\n",
        "# ---------- Step 7: Display ----------\n",
        "print(\"📊 Sample Predictions vs Ground Truth:\")\n",
        "display(comparison_df)\n",
        "\n",
        "print(\"\\n📈 Evaluation Metrics (RMSE & MAE):\")\n",
        "display(metrics_df)\n",
        "\n",
        "plt.figure(figsize=(10, 5))\n",
        "sns.barplot(data=metrics_df.melt(id_vars=\"Model\"), x=\"Model\", y=\"value\", hue=\"variable\")\n",
        "plt.title(\"Model RMSE & MAE Comparison\")\n",
        "plt.xticks(rotation=20)\n",
        "plt.grid(True)\n",
        "plt.tight_layout()\n",
        "plt.show()\n"
      ],
      "metadata": {
        "colab": {
          "base_uri": "https://localhost:8080/",
          "height": 906
        },
        "id": "E9LWamv4jDaH",
        "outputId": "b5450884-73d6-4cc0-aa80-406b60b74c11"
      },
      "execution_count": 63,
      "outputs": [
        {
          "output_type": "stream",
          "name": "stdout",
          "text": [
            "📊 Sample Predictions vs Ground Truth:\n"
          ]
        },
        {
          "output_type": "display_data",
          "data": {
            "text/plain": [
              "   True Rating  Content-Based  Hybrid Model  Rating Model  Recommender RF\n",
              "0          5.0       4.236066      4.009361      4.194431        4.179507\n",
              "1          4.0       3.285262      3.973756      3.558983        4.162262\n",
              "2          4.0       3.690670      3.807678      4.002747        4.462642\n",
              "3          5.0       4.071103      4.019601      4.268344        4.462642\n",
              "4          3.0       3.287572      3.479008      3.303108        4.412517"
            ],
            "text/html": [
              "\n",
              "  <div id=\"df-391246b5-a299-48ae-bc92-a179a2b593b7\" class=\"colab-df-container\">\n",
              "    <div>\n",
              "<style scoped>\n",
              "    .dataframe tbody tr th:only-of-type {\n",
              "        vertical-align: middle;\n",
              "    }\n",
              "\n",
              "    .dataframe tbody tr th {\n",
              "        vertical-align: top;\n",
              "    }\n",
              "\n",
              "    .dataframe thead th {\n",
              "        text-align: right;\n",
              "    }\n",
              "</style>\n",
              "<table border=\"1\" class=\"dataframe\">\n",
              "  <thead>\n",
              "    <tr style=\"text-align: right;\">\n",
              "      <th></th>\n",
              "      <th>True Rating</th>\n",
              "      <th>Content-Based</th>\n",
              "      <th>Hybrid Model</th>\n",
              "      <th>Rating Model</th>\n",
              "      <th>Recommender RF</th>\n",
              "    </tr>\n",
              "  </thead>\n",
              "  <tbody>\n",
              "    <tr>\n",
              "      <th>0</th>\n",
              "      <td>5.0</td>\n",
              "      <td>4.236066</td>\n",
              "      <td>4.009361</td>\n",
              "      <td>4.194431</td>\n",
              "      <td>4.179507</td>\n",
              "    </tr>\n",
              "    <tr>\n",
              "      <th>1</th>\n",
              "      <td>4.0</td>\n",
              "      <td>3.285262</td>\n",
              "      <td>3.973756</td>\n",
              "      <td>3.558983</td>\n",
              "      <td>4.162262</td>\n",
              "    </tr>\n",
              "    <tr>\n",
              "      <th>2</th>\n",
              "      <td>4.0</td>\n",
              "      <td>3.690670</td>\n",
              "      <td>3.807678</td>\n",
              "      <td>4.002747</td>\n",
              "      <td>4.462642</td>\n",
              "    </tr>\n",
              "    <tr>\n",
              "      <th>3</th>\n",
              "      <td>5.0</td>\n",
              "      <td>4.071103</td>\n",
              "      <td>4.019601</td>\n",
              "      <td>4.268344</td>\n",
              "      <td>4.462642</td>\n",
              "    </tr>\n",
              "    <tr>\n",
              "      <th>4</th>\n",
              "      <td>3.0</td>\n",
              "      <td>3.287572</td>\n",
              "      <td>3.479008</td>\n",
              "      <td>3.303108</td>\n",
              "      <td>4.412517</td>\n",
              "    </tr>\n",
              "  </tbody>\n",
              "</table>\n",
              "</div>\n",
              "    <div class=\"colab-df-buttons\">\n",
              "\n",
              "  <div class=\"colab-df-container\">\n",
              "    <button class=\"colab-df-convert\" onclick=\"convertToInteractive('df-391246b5-a299-48ae-bc92-a179a2b593b7')\"\n",
              "            title=\"Convert this dataframe to an interactive table.\"\n",
              "            style=\"display:none;\">\n",
              "\n",
              "  <svg xmlns=\"http://www.w3.org/2000/svg\" height=\"24px\" viewBox=\"0 -960 960 960\">\n",
              "    <path d=\"M120-120v-720h720v720H120Zm60-500h600v-160H180v160Zm220 220h160v-160H400v160Zm0 220h160v-160H400v160ZM180-400h160v-160H180v160Zm440 0h160v-160H620v160ZM180-180h160v-160H180v160Zm440 0h160v-160H620v160Z\"/>\n",
              "  </svg>\n",
              "    </button>\n",
              "\n",
              "  <style>\n",
              "    .colab-df-container {\n",
              "      display:flex;\n",
              "      gap: 12px;\n",
              "    }\n",
              "\n",
              "    .colab-df-convert {\n",
              "      background-color: #E8F0FE;\n",
              "      border: none;\n",
              "      border-radius: 50%;\n",
              "      cursor: pointer;\n",
              "      display: none;\n",
              "      fill: #1967D2;\n",
              "      height: 32px;\n",
              "      padding: 0 0 0 0;\n",
              "      width: 32px;\n",
              "    }\n",
              "\n",
              "    .colab-df-convert:hover {\n",
              "      background-color: #E2EBFA;\n",
              "      box-shadow: 0px 1px 2px rgba(60, 64, 67, 0.3), 0px 1px 3px 1px rgba(60, 64, 67, 0.15);\n",
              "      fill: #174EA6;\n",
              "    }\n",
              "\n",
              "    .colab-df-buttons div {\n",
              "      margin-bottom: 4px;\n",
              "    }\n",
              "\n",
              "    [theme=dark] .colab-df-convert {\n",
              "      background-color: #3B4455;\n",
              "      fill: #D2E3FC;\n",
              "    }\n",
              "\n",
              "    [theme=dark] .colab-df-convert:hover {\n",
              "      background-color: #434B5C;\n",
              "      box-shadow: 0px 1px 3px 1px rgba(0, 0, 0, 0.15);\n",
              "      filter: drop-shadow(0px 1px 2px rgba(0, 0, 0, 0.3));\n",
              "      fill: #FFFFFF;\n",
              "    }\n",
              "  </style>\n",
              "\n",
              "    <script>\n",
              "      const buttonEl =\n",
              "        document.querySelector('#df-391246b5-a299-48ae-bc92-a179a2b593b7 button.colab-df-convert');\n",
              "      buttonEl.style.display =\n",
              "        google.colab.kernel.accessAllowed ? 'block' : 'none';\n",
              "\n",
              "      async function convertToInteractive(key) {\n",
              "        const element = document.querySelector('#df-391246b5-a299-48ae-bc92-a179a2b593b7');\n",
              "        const dataTable =\n",
              "          await google.colab.kernel.invokeFunction('convertToInteractive',\n",
              "                                                    [key], {});\n",
              "        if (!dataTable) return;\n",
              "\n",
              "        const docLinkHtml = 'Like what you see? Visit the ' +\n",
              "          '<a target=\"_blank\" href=https://colab.research.google.com/notebooks/data_table.ipynb>data table notebook</a>'\n",
              "          + ' to learn more about interactive tables.';\n",
              "        element.innerHTML = '';\n",
              "        dataTable['output_type'] = 'display_data';\n",
              "        await google.colab.output.renderOutput(dataTable, element);\n",
              "        const docLink = document.createElement('div');\n",
              "        docLink.innerHTML = docLinkHtml;\n",
              "        element.appendChild(docLink);\n",
              "      }\n",
              "    </script>\n",
              "  </div>\n",
              "\n",
              "\n",
              "    <div id=\"df-d44055b1-8a77-4f88-96b3-b16a87c8151d\">\n",
              "      <button class=\"colab-df-quickchart\" onclick=\"quickchart('df-d44055b1-8a77-4f88-96b3-b16a87c8151d')\"\n",
              "                title=\"Suggest charts\"\n",
              "                style=\"display:none;\">\n",
              "\n",
              "<svg xmlns=\"http://www.w3.org/2000/svg\" height=\"24px\"viewBox=\"0 0 24 24\"\n",
              "     width=\"24px\">\n",
              "    <g>\n",
              "        <path d=\"M19 3H5c-1.1 0-2 .9-2 2v14c0 1.1.9 2 2 2h14c1.1 0 2-.9 2-2V5c0-1.1-.9-2-2-2zM9 17H7v-7h2v7zm4 0h-2V7h2v10zm4 0h-2v-4h2v4z\"/>\n",
              "    </g>\n",
              "</svg>\n",
              "      </button>\n",
              "\n",
              "<style>\n",
              "  .colab-df-quickchart {\n",
              "      --bg-color: #E8F0FE;\n",
              "      --fill-color: #1967D2;\n",
              "      --hover-bg-color: #E2EBFA;\n",
              "      --hover-fill-color: #174EA6;\n",
              "      --disabled-fill-color: #AAA;\n",
              "      --disabled-bg-color: #DDD;\n",
              "  }\n",
              "\n",
              "  [theme=dark] .colab-df-quickchart {\n",
              "      --bg-color: #3B4455;\n",
              "      --fill-color: #D2E3FC;\n",
              "      --hover-bg-color: #434B5C;\n",
              "      --hover-fill-color: #FFFFFF;\n",
              "      --disabled-bg-color: #3B4455;\n",
              "      --disabled-fill-color: #666;\n",
              "  }\n",
              "\n",
              "  .colab-df-quickchart {\n",
              "    background-color: var(--bg-color);\n",
              "    border: none;\n",
              "    border-radius: 50%;\n",
              "    cursor: pointer;\n",
              "    display: none;\n",
              "    fill: var(--fill-color);\n",
              "    height: 32px;\n",
              "    padding: 0;\n",
              "    width: 32px;\n",
              "  }\n",
              "\n",
              "  .colab-df-quickchart:hover {\n",
              "    background-color: var(--hover-bg-color);\n",
              "    box-shadow: 0 1px 2px rgba(60, 64, 67, 0.3), 0 1px 3px 1px rgba(60, 64, 67, 0.15);\n",
              "    fill: var(--button-hover-fill-color);\n",
              "  }\n",
              "\n",
              "  .colab-df-quickchart-complete:disabled,\n",
              "  .colab-df-quickchart-complete:disabled:hover {\n",
              "    background-color: var(--disabled-bg-color);\n",
              "    fill: var(--disabled-fill-color);\n",
              "    box-shadow: none;\n",
              "  }\n",
              "\n",
              "  .colab-df-spinner {\n",
              "    border: 2px solid var(--fill-color);\n",
              "    border-color: transparent;\n",
              "    border-bottom-color: var(--fill-color);\n",
              "    animation:\n",
              "      spin 1s steps(1) infinite;\n",
              "  }\n",
              "\n",
              "  @keyframes spin {\n",
              "    0% {\n",
              "      border-color: transparent;\n",
              "      border-bottom-color: var(--fill-color);\n",
              "      border-left-color: var(--fill-color);\n",
              "    }\n",
              "    20% {\n",
              "      border-color: transparent;\n",
              "      border-left-color: var(--fill-color);\n",
              "      border-top-color: var(--fill-color);\n",
              "    }\n",
              "    30% {\n",
              "      border-color: transparent;\n",
              "      border-left-color: var(--fill-color);\n",
              "      border-top-color: var(--fill-color);\n",
              "      border-right-color: var(--fill-color);\n",
              "    }\n",
              "    40% {\n",
              "      border-color: transparent;\n",
              "      border-right-color: var(--fill-color);\n",
              "      border-top-color: var(--fill-color);\n",
              "    }\n",
              "    60% {\n",
              "      border-color: transparent;\n",
              "      border-right-color: var(--fill-color);\n",
              "    }\n",
              "    80% {\n",
              "      border-color: transparent;\n",
              "      border-right-color: var(--fill-color);\n",
              "      border-bottom-color: var(--fill-color);\n",
              "    }\n",
              "    90% {\n",
              "      border-color: transparent;\n",
              "      border-bottom-color: var(--fill-color);\n",
              "    }\n",
              "  }\n",
              "</style>\n",
              "\n",
              "      <script>\n",
              "        async function quickchart(key) {\n",
              "          const quickchartButtonEl =\n",
              "            document.querySelector('#' + key + ' button');\n",
              "          quickchartButtonEl.disabled = true;  // To prevent multiple clicks.\n",
              "          quickchartButtonEl.classList.add('colab-df-spinner');\n",
              "          try {\n",
              "            const charts = await google.colab.kernel.invokeFunction(\n",
              "                'suggestCharts', [key], {});\n",
              "          } catch (error) {\n",
              "            console.error('Error during call to suggestCharts:', error);\n",
              "          }\n",
              "          quickchartButtonEl.classList.remove('colab-df-spinner');\n",
              "          quickchartButtonEl.classList.add('colab-df-quickchart-complete');\n",
              "        }\n",
              "        (() => {\n",
              "          let quickchartButtonEl =\n",
              "            document.querySelector('#df-d44055b1-8a77-4f88-96b3-b16a87c8151d button');\n",
              "          quickchartButtonEl.style.display =\n",
              "            google.colab.kernel.accessAllowed ? 'block' : 'none';\n",
              "        })();\n",
              "      </script>\n",
              "    </div>\n",
              "\n",
              "  <div id=\"id_2270a587-e8a7-4cd6-80c1-08068e35a82d\">\n",
              "    <style>\n",
              "      .colab-df-generate {\n",
              "        background-color: #E8F0FE;\n",
              "        border: none;\n",
              "        border-radius: 50%;\n",
              "        cursor: pointer;\n",
              "        display: none;\n",
              "        fill: #1967D2;\n",
              "        height: 32px;\n",
              "        padding: 0 0 0 0;\n",
              "        width: 32px;\n",
              "      }\n",
              "\n",
              "      .colab-df-generate:hover {\n",
              "        background-color: #E2EBFA;\n",
              "        box-shadow: 0px 1px 2px rgba(60, 64, 67, 0.3), 0px 1px 3px 1px rgba(60, 64, 67, 0.15);\n",
              "        fill: #174EA6;\n",
              "      }\n",
              "\n",
              "      [theme=dark] .colab-df-generate {\n",
              "        background-color: #3B4455;\n",
              "        fill: #D2E3FC;\n",
              "      }\n",
              "\n",
              "      [theme=dark] .colab-df-generate:hover {\n",
              "        background-color: #434B5C;\n",
              "        box-shadow: 0px 1px 3px 1px rgba(0, 0, 0, 0.15);\n",
              "        filter: drop-shadow(0px 1px 2px rgba(0, 0, 0, 0.3));\n",
              "        fill: #FFFFFF;\n",
              "      }\n",
              "    </style>\n",
              "    <button class=\"colab-df-generate\" onclick=\"generateWithVariable('comparison_df')\"\n",
              "            title=\"Generate code using this dataframe.\"\n",
              "            style=\"display:none;\">\n",
              "\n",
              "  <svg xmlns=\"http://www.w3.org/2000/svg\" height=\"24px\"viewBox=\"0 0 24 24\"\n",
              "       width=\"24px\">\n",
              "    <path d=\"M7,19H8.4L18.45,9,17,7.55,7,17.6ZM5,21V16.75L18.45,3.32a2,2,0,0,1,2.83,0l1.4,1.43a1.91,1.91,0,0,1,.58,1.4,1.91,1.91,0,0,1-.58,1.4L9.25,21ZM18.45,9,17,7.55Zm-12,3A5.31,5.31,0,0,0,4.9,8.1,5.31,5.31,0,0,0,1,6.5,5.31,5.31,0,0,0,4.9,4.9,5.31,5.31,0,0,0,6.5,1,5.31,5.31,0,0,0,8.1,4.9,5.31,5.31,0,0,0,12,6.5,5.46,5.46,0,0,0,6.5,12Z\"/>\n",
              "  </svg>\n",
              "    </button>\n",
              "    <script>\n",
              "      (() => {\n",
              "      const buttonEl =\n",
              "        document.querySelector('#id_2270a587-e8a7-4cd6-80c1-08068e35a82d button.colab-df-generate');\n",
              "      buttonEl.style.display =\n",
              "        google.colab.kernel.accessAllowed ? 'block' : 'none';\n",
              "\n",
              "      buttonEl.onclick = () => {\n",
              "        google.colab.notebook.generateWithVariable('comparison_df');\n",
              "      }\n",
              "      })();\n",
              "    </script>\n",
              "  </div>\n",
              "\n",
              "    </div>\n",
              "  </div>\n"
            ],
            "application/vnd.google.colaboratory.intrinsic+json": {
              "type": "dataframe",
              "variable_name": "comparison_df",
              "summary": "{\n  \"name\": \"comparison_df\",\n  \"rows\": 5,\n  \"fields\": [\n    {\n      \"column\": \"True Rating\",\n      \"properties\": {\n        \"dtype\": \"number\",\n        \"std\": 0.8366600265340756,\n        \"min\": 3.0,\n        \"max\": 5.0,\n        \"num_unique_values\": 3,\n        \"samples\": [\n          5.0,\n          4.0,\n          3.0\n        ],\n        \"semantic_type\": \"\",\n        \"description\": \"\"\n      }\n    },\n    {\n      \"column\": \"Content-Based\",\n      \"properties\": {\n        \"dtype\": \"number\",\n        \"std\": 0.43768616202601957,\n        \"min\": 3.2852623462677,\n        \"max\": 4.236065864562988,\n        \"num_unique_values\": 5,\n        \"samples\": [\n          3.2852623462677,\n          3.287571668624878,\n          3.690669536590576\n        ],\n        \"semantic_type\": \"\",\n        \"description\": \"\"\n      }\n    },\n    {\n      \"column\": \"Hybrid Model\",\n      \"properties\": {\n        \"dtype\": \"number\",\n        \"std\": 0.22835918323006485,\n        \"min\": 3.479008197784424,\n        \"max\": 4.019600868225098,\n        \"num_unique_values\": 5,\n        \"samples\": [\n          3.9737563133239746,\n          3.479008197784424,\n          3.8076775074005127\n        ],\n        \"semantic_type\": \"\",\n        \"description\": \"\"\n      }\n    },\n    {\n      \"column\": \"Rating Model\",\n      \"properties\": {\n        \"dtype\": \"number\",\n        \"std\": 0.4181963260398614,\n        \"min\": 3.3031084537506104,\n        \"max\": 4.268343925476074,\n        \"num_unique_values\": 5,\n        \"samples\": [\n          3.5589828491210938,\n          3.3031084537506104,\n          4.00274658203125\n        ],\n        \"semantic_type\": \"\",\n        \"description\": \"\"\n      }\n    },\n    {\n      \"column\": \"Recommender RF\",\n      \"properties\": {\n        \"dtype\": \"number\",\n        \"std\": 0.1521562558601949,\n        \"min\": 4.162262171687033,\n        \"max\": 4.462641771727946,\n        \"num_unique_values\": 4,\n        \"samples\": [\n          4.162262171687033,\n          4.412517492711393,\n          4.1795068519431045\n        ],\n        \"semantic_type\": \"\",\n        \"description\": \"\"\n      }\n    }\n  ]\n}"
            }
          },
          "metadata": {}
        },
        {
          "output_type": "stream",
          "name": "stdout",
          "text": [
            "\n",
            "📈 Evaluation Metrics (RMSE & MAE):\n"
          ]
        },
        {
          "output_type": "display_data",
          "data": {
            "text/plain": [
              "            Model      RMSE       MAE\n",
              "0   Content-Based  0.427136  0.600894\n",
              "1    Hybrid Model  0.441935  0.533722\n",
              "2    Rating Model  0.294128  0.456819\n",
              "3  Recommender RF  0.639507  0.679055"
            ],
            "text/html": [
              "\n",
              "  <div id=\"df-09594584-02b9-421d-9580-a9003269fc9a\" class=\"colab-df-container\">\n",
              "    <div>\n",
              "<style scoped>\n",
              "    .dataframe tbody tr th:only-of-type {\n",
              "        vertical-align: middle;\n",
              "    }\n",
              "\n",
              "    .dataframe tbody tr th {\n",
              "        vertical-align: top;\n",
              "    }\n",
              "\n",
              "    .dataframe thead th {\n",
              "        text-align: right;\n",
              "    }\n",
              "</style>\n",
              "<table border=\"1\" class=\"dataframe\">\n",
              "  <thead>\n",
              "    <tr style=\"text-align: right;\">\n",
              "      <th></th>\n",
              "      <th>Model</th>\n",
              "      <th>RMSE</th>\n",
              "      <th>MAE</th>\n",
              "    </tr>\n",
              "  </thead>\n",
              "  <tbody>\n",
              "    <tr>\n",
              "      <th>0</th>\n",
              "      <td>Content-Based</td>\n",
              "      <td>0.427136</td>\n",
              "      <td>0.600894</td>\n",
              "    </tr>\n",
              "    <tr>\n",
              "      <th>1</th>\n",
              "      <td>Hybrid Model</td>\n",
              "      <td>0.441935</td>\n",
              "      <td>0.533722</td>\n",
              "    </tr>\n",
              "    <tr>\n",
              "      <th>2</th>\n",
              "      <td>Rating Model</td>\n",
              "      <td>0.294128</td>\n",
              "      <td>0.456819</td>\n",
              "    </tr>\n",
              "    <tr>\n",
              "      <th>3</th>\n",
              "      <td>Recommender RF</td>\n",
              "      <td>0.639507</td>\n",
              "      <td>0.679055</td>\n",
              "    </tr>\n",
              "  </tbody>\n",
              "</table>\n",
              "</div>\n",
              "    <div class=\"colab-df-buttons\">\n",
              "\n",
              "  <div class=\"colab-df-container\">\n",
              "    <button class=\"colab-df-convert\" onclick=\"convertToInteractive('df-09594584-02b9-421d-9580-a9003269fc9a')\"\n",
              "            title=\"Convert this dataframe to an interactive table.\"\n",
              "            style=\"display:none;\">\n",
              "\n",
              "  <svg xmlns=\"http://www.w3.org/2000/svg\" height=\"24px\" viewBox=\"0 -960 960 960\">\n",
              "    <path d=\"M120-120v-720h720v720H120Zm60-500h600v-160H180v160Zm220 220h160v-160H400v160Zm0 220h160v-160H400v160ZM180-400h160v-160H180v160Zm440 0h160v-160H620v160ZM180-180h160v-160H180v160Zm440 0h160v-160H620v160Z\"/>\n",
              "  </svg>\n",
              "    </button>\n",
              "\n",
              "  <style>\n",
              "    .colab-df-container {\n",
              "      display:flex;\n",
              "      gap: 12px;\n",
              "    }\n",
              "\n",
              "    .colab-df-convert {\n",
              "      background-color: #E8F0FE;\n",
              "      border: none;\n",
              "      border-radius: 50%;\n",
              "      cursor: pointer;\n",
              "      display: none;\n",
              "      fill: #1967D2;\n",
              "      height: 32px;\n",
              "      padding: 0 0 0 0;\n",
              "      width: 32px;\n",
              "    }\n",
              "\n",
              "    .colab-df-convert:hover {\n",
              "      background-color: #E2EBFA;\n",
              "      box-shadow: 0px 1px 2px rgba(60, 64, 67, 0.3), 0px 1px 3px 1px rgba(60, 64, 67, 0.15);\n",
              "      fill: #174EA6;\n",
              "    }\n",
              "\n",
              "    .colab-df-buttons div {\n",
              "      margin-bottom: 4px;\n",
              "    }\n",
              "\n",
              "    [theme=dark] .colab-df-convert {\n",
              "      background-color: #3B4455;\n",
              "      fill: #D2E3FC;\n",
              "    }\n",
              "\n",
              "    [theme=dark] .colab-df-convert:hover {\n",
              "      background-color: #434B5C;\n",
              "      box-shadow: 0px 1px 3px 1px rgba(0, 0, 0, 0.15);\n",
              "      filter: drop-shadow(0px 1px 2px rgba(0, 0, 0, 0.3));\n",
              "      fill: #FFFFFF;\n",
              "    }\n",
              "  </style>\n",
              "\n",
              "    <script>\n",
              "      const buttonEl =\n",
              "        document.querySelector('#df-09594584-02b9-421d-9580-a9003269fc9a button.colab-df-convert');\n",
              "      buttonEl.style.display =\n",
              "        google.colab.kernel.accessAllowed ? 'block' : 'none';\n",
              "\n",
              "      async function convertToInteractive(key) {\n",
              "        const element = document.querySelector('#df-09594584-02b9-421d-9580-a9003269fc9a');\n",
              "        const dataTable =\n",
              "          await google.colab.kernel.invokeFunction('convertToInteractive',\n",
              "                                                    [key], {});\n",
              "        if (!dataTable) return;\n",
              "\n",
              "        const docLinkHtml = 'Like what you see? Visit the ' +\n",
              "          '<a target=\"_blank\" href=https://colab.research.google.com/notebooks/data_table.ipynb>data table notebook</a>'\n",
              "          + ' to learn more about interactive tables.';\n",
              "        element.innerHTML = '';\n",
              "        dataTable['output_type'] = 'display_data';\n",
              "        await google.colab.output.renderOutput(dataTable, element);\n",
              "        const docLink = document.createElement('div');\n",
              "        docLink.innerHTML = docLinkHtml;\n",
              "        element.appendChild(docLink);\n",
              "      }\n",
              "    </script>\n",
              "  </div>\n",
              "\n",
              "\n",
              "    <div id=\"df-eb433a8d-fc46-43a0-be5b-d169862ed34e\">\n",
              "      <button class=\"colab-df-quickchart\" onclick=\"quickchart('df-eb433a8d-fc46-43a0-be5b-d169862ed34e')\"\n",
              "                title=\"Suggest charts\"\n",
              "                style=\"display:none;\">\n",
              "\n",
              "<svg xmlns=\"http://www.w3.org/2000/svg\" height=\"24px\"viewBox=\"0 0 24 24\"\n",
              "     width=\"24px\">\n",
              "    <g>\n",
              "        <path d=\"M19 3H5c-1.1 0-2 .9-2 2v14c0 1.1.9 2 2 2h14c1.1 0 2-.9 2-2V5c0-1.1-.9-2-2-2zM9 17H7v-7h2v7zm4 0h-2V7h2v10zm4 0h-2v-4h2v4z\"/>\n",
              "    </g>\n",
              "</svg>\n",
              "      </button>\n",
              "\n",
              "<style>\n",
              "  .colab-df-quickchart {\n",
              "      --bg-color: #E8F0FE;\n",
              "      --fill-color: #1967D2;\n",
              "      --hover-bg-color: #E2EBFA;\n",
              "      --hover-fill-color: #174EA6;\n",
              "      --disabled-fill-color: #AAA;\n",
              "      --disabled-bg-color: #DDD;\n",
              "  }\n",
              "\n",
              "  [theme=dark] .colab-df-quickchart {\n",
              "      --bg-color: #3B4455;\n",
              "      --fill-color: #D2E3FC;\n",
              "      --hover-bg-color: #434B5C;\n",
              "      --hover-fill-color: #FFFFFF;\n",
              "      --disabled-bg-color: #3B4455;\n",
              "      --disabled-fill-color: #666;\n",
              "  }\n",
              "\n",
              "  .colab-df-quickchart {\n",
              "    background-color: var(--bg-color);\n",
              "    border: none;\n",
              "    border-radius: 50%;\n",
              "    cursor: pointer;\n",
              "    display: none;\n",
              "    fill: var(--fill-color);\n",
              "    height: 32px;\n",
              "    padding: 0;\n",
              "    width: 32px;\n",
              "  }\n",
              "\n",
              "  .colab-df-quickchart:hover {\n",
              "    background-color: var(--hover-bg-color);\n",
              "    box-shadow: 0 1px 2px rgba(60, 64, 67, 0.3), 0 1px 3px 1px rgba(60, 64, 67, 0.15);\n",
              "    fill: var(--button-hover-fill-color);\n",
              "  }\n",
              "\n",
              "  .colab-df-quickchart-complete:disabled,\n",
              "  .colab-df-quickchart-complete:disabled:hover {\n",
              "    background-color: var(--disabled-bg-color);\n",
              "    fill: var(--disabled-fill-color);\n",
              "    box-shadow: none;\n",
              "  }\n",
              "\n",
              "  .colab-df-spinner {\n",
              "    border: 2px solid var(--fill-color);\n",
              "    border-color: transparent;\n",
              "    border-bottom-color: var(--fill-color);\n",
              "    animation:\n",
              "      spin 1s steps(1) infinite;\n",
              "  }\n",
              "\n",
              "  @keyframes spin {\n",
              "    0% {\n",
              "      border-color: transparent;\n",
              "      border-bottom-color: var(--fill-color);\n",
              "      border-left-color: var(--fill-color);\n",
              "    }\n",
              "    20% {\n",
              "      border-color: transparent;\n",
              "      border-left-color: var(--fill-color);\n",
              "      border-top-color: var(--fill-color);\n",
              "    }\n",
              "    30% {\n",
              "      border-color: transparent;\n",
              "      border-left-color: var(--fill-color);\n",
              "      border-top-color: var(--fill-color);\n",
              "      border-right-color: var(--fill-color);\n",
              "    }\n",
              "    40% {\n",
              "      border-color: transparent;\n",
              "      border-right-color: var(--fill-color);\n",
              "      border-top-color: var(--fill-color);\n",
              "    }\n",
              "    60% {\n",
              "      border-color: transparent;\n",
              "      border-right-color: var(--fill-color);\n",
              "    }\n",
              "    80% {\n",
              "      border-color: transparent;\n",
              "      border-right-color: var(--fill-color);\n",
              "      border-bottom-color: var(--fill-color);\n",
              "    }\n",
              "    90% {\n",
              "      border-color: transparent;\n",
              "      border-bottom-color: var(--fill-color);\n",
              "    }\n",
              "  }\n",
              "</style>\n",
              "\n",
              "      <script>\n",
              "        async function quickchart(key) {\n",
              "          const quickchartButtonEl =\n",
              "            document.querySelector('#' + key + ' button');\n",
              "          quickchartButtonEl.disabled = true;  // To prevent multiple clicks.\n",
              "          quickchartButtonEl.classList.add('colab-df-spinner');\n",
              "          try {\n",
              "            const charts = await google.colab.kernel.invokeFunction(\n",
              "                'suggestCharts', [key], {});\n",
              "          } catch (error) {\n",
              "            console.error('Error during call to suggestCharts:', error);\n",
              "          }\n",
              "          quickchartButtonEl.classList.remove('colab-df-spinner');\n",
              "          quickchartButtonEl.classList.add('colab-df-quickchart-complete');\n",
              "        }\n",
              "        (() => {\n",
              "          let quickchartButtonEl =\n",
              "            document.querySelector('#df-eb433a8d-fc46-43a0-be5b-d169862ed34e button');\n",
              "          quickchartButtonEl.style.display =\n",
              "            google.colab.kernel.accessAllowed ? 'block' : 'none';\n",
              "        })();\n",
              "      </script>\n",
              "    </div>\n",
              "\n",
              "  <div id=\"id_4eface82-8d2f-407d-bda8-dbc30003c150\">\n",
              "    <style>\n",
              "      .colab-df-generate {\n",
              "        background-color: #E8F0FE;\n",
              "        border: none;\n",
              "        border-radius: 50%;\n",
              "        cursor: pointer;\n",
              "        display: none;\n",
              "        fill: #1967D2;\n",
              "        height: 32px;\n",
              "        padding: 0 0 0 0;\n",
              "        width: 32px;\n",
              "      }\n",
              "\n",
              "      .colab-df-generate:hover {\n",
              "        background-color: #E2EBFA;\n",
              "        box-shadow: 0px 1px 2px rgba(60, 64, 67, 0.3), 0px 1px 3px 1px rgba(60, 64, 67, 0.15);\n",
              "        fill: #174EA6;\n",
              "      }\n",
              "\n",
              "      [theme=dark] .colab-df-generate {\n",
              "        background-color: #3B4455;\n",
              "        fill: #D2E3FC;\n",
              "      }\n",
              "\n",
              "      [theme=dark] .colab-df-generate:hover {\n",
              "        background-color: #434B5C;\n",
              "        box-shadow: 0px 1px 3px 1px rgba(0, 0, 0, 0.15);\n",
              "        filter: drop-shadow(0px 1px 2px rgba(0, 0, 0, 0.3));\n",
              "        fill: #FFFFFF;\n",
              "      }\n",
              "    </style>\n",
              "    <button class=\"colab-df-generate\" onclick=\"generateWithVariable('metrics_df')\"\n",
              "            title=\"Generate code using this dataframe.\"\n",
              "            style=\"display:none;\">\n",
              "\n",
              "  <svg xmlns=\"http://www.w3.org/2000/svg\" height=\"24px\"viewBox=\"0 0 24 24\"\n",
              "       width=\"24px\">\n",
              "    <path d=\"M7,19H8.4L18.45,9,17,7.55,7,17.6ZM5,21V16.75L18.45,3.32a2,2,0,0,1,2.83,0l1.4,1.43a1.91,1.91,0,0,1,.58,1.4,1.91,1.91,0,0,1-.58,1.4L9.25,21ZM18.45,9,17,7.55Zm-12,3A5.31,5.31,0,0,0,4.9,8.1,5.31,5.31,0,0,0,1,6.5,5.31,5.31,0,0,0,4.9,4.9,5.31,5.31,0,0,0,6.5,1,5.31,5.31,0,0,0,8.1,4.9,5.31,5.31,0,0,0,12,6.5,5.46,5.46,0,0,0,6.5,12Z\"/>\n",
              "  </svg>\n",
              "    </button>\n",
              "    <script>\n",
              "      (() => {\n",
              "      const buttonEl =\n",
              "        document.querySelector('#id_4eface82-8d2f-407d-bda8-dbc30003c150 button.colab-df-generate');\n",
              "      buttonEl.style.display =\n",
              "        google.colab.kernel.accessAllowed ? 'block' : 'none';\n",
              "\n",
              "      buttonEl.onclick = () => {\n",
              "        google.colab.notebook.generateWithVariable('metrics_df');\n",
              "      }\n",
              "      })();\n",
              "    </script>\n",
              "  </div>\n",
              "\n",
              "    </div>\n",
              "  </div>\n"
            ],
            "application/vnd.google.colaboratory.intrinsic+json": {
              "type": "dataframe",
              "variable_name": "metrics_df",
              "summary": "{\n  \"name\": \"metrics_df\",\n  \"rows\": 4,\n  \"fields\": [\n    {\n      \"column\": \"Model\",\n      \"properties\": {\n        \"dtype\": \"string\",\n        \"num_unique_values\": 4,\n        \"samples\": [\n          \"Hybrid Model\",\n          \"Recommender RF\",\n          \"Content-Based\"\n        ],\n        \"semantic_type\": \"\",\n        \"description\": \"\"\n      }\n    },\n    {\n      \"column\": \"RMSE\",\n      \"properties\": {\n        \"dtype\": \"number\",\n        \"std\": 0.1423551781225851,\n        \"min\": 0.2941279879358376,\n        \"max\": 0.639506992004768,\n        \"num_unique_values\": 4,\n        \"samples\": [\n          0.44193461650430665,\n          0.639506992004768,\n          0.4271355070765594\n        ],\n        \"semantic_type\": \"\",\n        \"description\": \"\"\n      }\n    },\n    {\n      \"column\": \"MAE\",\n      \"properties\": {\n        \"dtype\": \"number\",\n        \"std\": 0.09478159219291689,\n        \"min\": 0.45681939125061033,\n        \"max\": 0.6790545624910642,\n        \"num_unique_values\": 4,\n        \"samples\": [\n          0.5337224483489991,\n          0.6790545624910642,\n          0.6008941650390625\n        ],\n        \"semantic_type\": \"\",\n        \"description\": \"\"\n      }\n    }\n  ]\n}"
            }
          },
          "metadata": {}
        },
        {
          "output_type": "display_data",
          "data": {
            "text/plain": [
              "<Figure size 1000x500 with 1 Axes>"
            ],
            "image/png": "[encoded data removed]"
          },
          "metadata": {}
        }
      ]
    },
    {
      "cell_type": "markdown",
      "source": [
        "> Rating Model: Best performer (lowest RMSE: 0.30, MAE: 0.45)\n",
        "\n",
        "> Hybrid Model: Balanced and reliable (RMSE: 0.45, MAE: 0.53)\n",
        "\n",
        "> Content-Based: Frequent small errors, some large (RMSE: 0.43, MAE: 0.60)\n",
        "\n",
        "> Random Forest: Poor accuracy and high error (RMSE: 0.64, MAE: 0.68)"
      ],
      "metadata": {
        "id": "UtJjQxj5nZ4O"
      }
    },
    {
      "cell_type": "code",
      "source": [
        "# Error distributions\n",
        "errors = {\n",
        "    \"Content-Based\": np.array(cb_preds) - np.array(y_true),\n",
        "    \"Hybrid Model\": np.array(hy_preds) - np.array(y_true),\n",
        "    \"Rating Model\": np.array(rt_preds) - np.array(y_true),\n",
        "    \"Recommender RF\": np.array(rf_preds) - np.array(y_true)\n",
        "}\n",
        "\n",
        "plt.figure(figsize=(10, 5))\n",
        "for model, err in errors.items():\n",
        "    sns.kdeplot(err, label=model)\n",
        "plt.title(\"Error Distribution by Model\")\n",
        "plt.xlabel(\"Prediction Error\")\n",
        "plt.grid(True)\n",
        "plt.legend()\n",
        "plt.tight_layout()\n",
        "plt.show()\n"
      ],
      "metadata": {
        "colab": {
          "base_uri": "https://localhost:8080/",
          "height": 506
        },
        "id": "v9xnaQJCk1BA",
        "outputId": "2bbf6185-6316-46a3-93a3-0d0fa6dc5c1c"
      },
      "execution_count": 64,
      "outputs": [
        {
          "output_type": "display_data",
          "data": {
            "text/plain": [
              "<Figure size 1000x500 with 1 Axes>"
            ],
            "image/png": "[encoded data removed]"
          },
          "metadata": {}
        }
      ]
    },
    {
      "cell_type": "markdown",
      "source": [
        "Centering around 0 (on X-axis) = unbiased.\n",
        "\n",
        "> Blue, green, and orange center well.\n",
        "\n",
        "> Red (RF) has a long tail → may overpredict in some cases.\n",
        "\n",
        "Skinnier curve = lower standard deviation (better precision)\n",
        "\n",
        "> Blue (Content-Based) is the best in that sense."
      ],
      "metadata": {
        "id": "29x40bWqlzAf"
      }
    },
    {
      "cell_type": "code",
      "source": [
        "pip install shap torch matplotlib pandas scikit-learn"
      ],
      "metadata": {
        "colab": {
          "base_uri": "https://localhost:8080/"
        },
        "id": "wDMD2OQ-u1eB",
        "outputId": "53f78bc9-f1a1-4eaa-c954-95e718cb22e6"
      },
      "execution_count": 74,
      "outputs": [
        {
          "output_type": "stream",
          "name": "stdout",
          "text": [
            "Requirement already satisfied: shap in /usr/local/lib/python3.11/dist-packages (0.47.2)\n",
            "Requirement already satisfied: torch in /usr/local/lib/python3.11/dist-packages (2.0.1)\n",
            "Requirement already satisfied: matplotlib in /usr/local/lib/python3.11/dist-packages (3.10.0)\n",
            "Requirement already satisfied: pandas in /usr/local/lib/python3.11/dist-packages (2.2.2)\n",
            "Requirement already satisfied: scikit-learn in /usr/local/lib/python3.11/dist-packages (1.6.1)\n",
            "Requirement already satisfied: numpy in /usr/local/lib/python3.11/dist-packages (from shap) (2.2.5)\n",
            "Requirement already satisfied: scipy in /usr/local/lib/python3.11/dist-packages (from shap) (1.15.2)\n",
            "Requirement already satisfied: tqdm>=4.27.0 in /usr/local/lib/python3.11/dist-packages (from shap) (4.67.1)\n",
            "Requirement already satisfied: packaging>20.9 in /usr/local/lib/python3.11/dist-packages (from shap) (24.2)\n",
            "Requirement already satisfied: slicer==0.0.8 in /usr/local/lib/python3.11/dist-packages (from shap) (0.0.8)\n",
            "Requirement already satisfied: numba>=0.54 in /usr/local/lib/python3.11/dist-packages (from shap) (0.60.0)\n",
            "Requirement already satisfied: cloudpickle in /usr/local/lib/python3.11/dist-packages (from shap) (3.1.1)\n",
            "Requirement already satisfied: typing-extensions in /usr/local/lib/python3.11/dist-packages (from shap) (4.13.2)\n",
            "Requirement already satisfied: filelock in /usr/local/lib/python3.11/dist-packages (from torch) (3.18.0)\n",
            "Requirement already satisfied: sympy in /usr/local/lib/python3.11/dist-packages (from torch) (1.14.0)\n",
            "Requirement already satisfied: networkx in /usr/local/lib/python3.11/dist-packages (from torch) (3.4.2)\n",
            "Requirement already satisfied: jinja2 in /usr/local/lib/python3.11/dist-packages (from torch) (3.1.6)\n",
            "Requirement already satisfied: nvidia-cuda-nvrtc-cu11==11.7.99 in /usr/local/lib/python3.11/dist-packages (from torch) (11.7.99)\n",
            "Requirement already satisfied: nvidia-cuda-runtime-cu11==11.7.99 in /usr/local/lib/python3.11/dist-packages (from torch) (11.7.99)\n",
            "Requirement already satisfied: nvidia-cuda-cupti-cu11==11.7.101 in /usr/local/lib/python3.11/dist-packages (from torch) (11.7.101)\n",
            "Requirement already satisfied: nvidia-cudnn-cu11==8.5.0.96 in /usr/local/lib/python3.11/dist-packages (from torch) (8.5.0.96)\n",
            "Requirement already satisfied: nvidia-cublas-cu11==11.10.3.66 in /usr/local/lib/python3.11/dist-packages (from torch) (11.10.3.66)\n",
            "Requirement already satisfied: nvidia-cufft-cu11==10.9.0.58 in /usr/local/lib/python3.11/dist-packages (from torch) (10.9.0.58)\n",
            "Requirement already satisfied: nvidia-curand-cu11==10.2.10.91 in /usr/local/lib/python3.11/dist-packages (from torch) (10.2.10.91)\n",
            "Requirement already satisfied: nvidia-cusolver-cu11==11.4.0.1 in /usr/local/lib/python3.11/dist-packages (from torch) (11.4.0.1)\n",
            "Requirement already satisfied: nvidia-cusparse-cu11==11.7.4.91 in /usr/local/lib/python3.11/dist-packages (from torch) (11.7.4.91)\n",
            "Requirement already satisfied: nvidia-nccl-cu11==2.14.3 in /usr/local/lib/python3.11/dist-packages (from torch) (2.14.3)\n",
            "Requirement already satisfied: nvidia-nvtx-cu11==11.7.91 in /usr/local/lib/python3.11/dist-packages (from torch) (11.7.91)\n",
            "Requirement already satisfied: triton==2.0.0 in /usr/local/lib/python3.11/dist-packages (from torch) (2.0.0)\n",
            "Requirement already satisfied: setuptools in /usr/local/lib/python3.11/dist-packages (from nvidia-cublas-cu11==11.10.3.66->torch) (80.1.0)\n",
            "Requirement already satisfied: wheel in /usr/local/lib/python3.11/dist-packages (from nvidia-cublas-cu11==11.10.3.66->torch) (0.45.1)\n",
            "Requirement already satisfied: cmake in /usr/local/lib/python3.11/dist-packages (from triton==2.0.0->torch) (4.0.0)\n",
            "Requirement already satisfied: lit in /usr/local/lib/python3.11/dist-packages (from triton==2.0.0->torch) (18.1.8)\n",
            "Requirement already satisfied: contourpy>=1.0.1 in /usr/local/lib/python3.11/dist-packages (from matplotlib) (1.3.2)\n",
            "Requirement already satisfied: cycler>=0.10 in /usr/local/lib/python3.11/dist-packages (from matplotlib) (0.12.1)\n",
            "Requirement already satisfied: fonttools>=4.22.0 in /usr/local/lib/python3.11/dist-packages (from matplotlib) (4.57.0)\n",
            "Requirement already satisfied: kiwisolver>=1.3.1 in /usr/local/lib/python3.11/dist-packages (from matplotlib) (1.4.8)\n",
            "Requirement already satisfied: pillow>=8 in /usr/local/lib/python3.11/dist-packages (from matplotlib) (11.2.1)\n",
            "Requirement already satisfied: pyparsing>=2.3.1 in /usr/local/lib/python3.11/dist-packages (from matplotlib) (3.2.3)\n",
            "Requirement already satisfied: python-dateutil>=2.7 in /usr/local/lib/python3.11/dist-packages (from matplotlib) (2.9.0.post0)\n",
            "Requirement already satisfied: pytz>=2020.1 in /usr/local/lib/python3.11/dist-packages (from pandas) (2025.2)\n",
            "Requirement already satisfied: tzdata>=2022.7 in /usr/local/lib/python3.11/dist-packages (from pandas) (2025.2)\n",
            "Requirement already satisfied: joblib>=1.2.0 in /usr/local/lib/python3.11/dist-packages (from scikit-learn) (1.4.2)\n",
            "Requirement already satisfied: threadpoolctl>=3.1.0 in /usr/local/lib/python3.11/dist-packages (from scikit-learn) (3.6.0)\n",
            "Requirement already satisfied: llvmlite<0.44,>=0.43.0dev0 in /usr/local/lib/python3.11/dist-packages (from numba>=0.54->shap) (0.43.0)\n",
            "Collecting numpy (from shap)\n",
            "  Downloading numpy-2.0.2-cp311-cp311-manylinux_2_17_x86_64.manylinux2014_x86_64.whl.metadata (60 kB)\n",
            "\u001b[2K     \u001b[90m━━━━━━━━━━━━━━━━━━━━━━━━━━━━━━━━━━━━━━━━\u001b[0m \u001b[32m60.9/60.9 kB\u001b[0m \u001b[31m4.8 MB/s\u001b[0m eta \u001b[36m0:00:00\u001b[0m\n",
            "\u001b[?25hRequirement already satisfied: six>=1.5 in /usr/local/lib/python3.11/dist-packages (from python-dateutil>=2.7->matplotlib) (1.17.0)\n",
            "Requirement already satisfied: MarkupSafe>=2.0 in /usr/local/lib/python3.11/dist-packages (from jinja2->torch) (3.0.2)\n",
            "Requirement already satisfied: mpmath<1.4,>=1.1.0 in /usr/local/lib/python3.11/dist-packages (from sympy->torch) (1.3.0)\n",
            "Downloading numpy-2.0.2-cp311-cp311-manylinux_2_17_x86_64.manylinux2014_x86_64.whl (19.5 MB)\n",
            "\u001b[2K   \u001b[90m━━━━━━━━━━━━━━━━━━━━━━━━━━━━━━━━━━━━━━━━\u001b[0m \u001b[32m19.5/19.5 MB\u001b[0m \u001b[31m56.1 MB/s\u001b[0m eta \u001b[36m0:00:00\u001b[0m\n",
            "\u001b[?25hInstalling collected packages: numpy\n",
            "  Attempting uninstall: numpy\n",
            "    Found existing installation: numpy 2.2.5\n",
            "    Uninstalling numpy-2.2.5:\n",
            "      Successfully uninstalled numpy-2.2.5\n",
            "\u001b[31mERROR: pip's dependency resolver does not currently take into account all the packages that are installed. This behaviour is the source of the following dependency conflicts.\n",
            "torchvision 0.21.0+cu124 requires torch==2.6.0, but you have torch 2.0.1 which is incompatible.\u001b[0m\u001b[31m\n",
            "\u001b[0mSuccessfully installed numpy-2.0.2\n"
          ]
        }
      ]
    },
    {
      "cell_type": "code",
      "source": [
        "import shap\n",
        "import torch\n",
        "import pandas as pd\n",
        "import numpy as np\n",
        "import matplotlib.pyplot as plt\n",
        "from sklearn.preprocessing import StandardScaler\n",
        "\n",
        "# ---------- Load and Preprocess Data ----------\n",
        "df = pd.read_json(\"/content/drive/MyDrive/new chunk/reviews_chunk_0000.jsonl\", lines=True)\n",
        "df[\"rating\"] = df[\"rating\"].clip(1, 5)\n",
        "\n",
        "# Encoding\n",
        "df[\"user_id\"] = df[\"author_id\"].astype(\"category\").cat.codes\n",
        "df[\"item_id\"] = df[\"hotel_id\"].astype(\"category\").cat.codes\n",
        "\n",
        "# Features\n",
        "feature_cols = [col for col in df.columns if col.startswith(\"tfidf_\") or \"sentiment\" in col or col.startswith(\"rating_\")]\n",
        "X = df[feature_cols]\n",
        "y = df[\"rating\"]\n",
        "\n",
        "# Scale (optional but helps stability)\n",
        "scaler = StandardScaler()\n",
        "X_scaled = scaler.fit_transform(X)\n",
        "\n",
        "\n",
        "# Load model\n",
        "model = ContentBasedModel(len(feature_cols))\n",
        "model.load_state_dict(torch.load(\"/content/drive/MyDrive/new chunk/model_outputs/content_based_model.pt\"))\n",
        "model.eval()\n",
        "\n",
        "# ---------- SHAP Wrapper ----------\n",
        "class CBWrapper(torch.nn.Module):\n",
        "    def __init__(self, model): super().__init__(); self.model = model\n",
        "    def forward(self, x):\n",
        "        with torch.no_grad():\n",
        "            return self.model(torch.tensor(x, dtype=torch.float32)).numpy()\n",
        "\n",
        "# ---------- Compute SHAP Values ----------\n",
        "explainer = shap.Explainer(CBWrapper(model), X_scaled[:50])  # using only 50 samples\n",
        "shap_values = explainer(X_scaled[:50])\n",
        "\n",
        "# ---------- Plot Top 10 SHAP Features ----------\n",
        "shap.plots.bar(shap_values, max_display=10)\n"
      ],
      "metadata": {
        "colab": {
          "base_uri": "https://localhost:8080/",
          "height": 585
        },
        "id": "uLHIClbtu-6C",
        "outputId": "a8ec200c-f37e-40a0-bf84-744e58eac0d8"
      },
      "execution_count": 76,
      "outputs": [
        {
          "output_type": "display_data",
          "data": {
            "text/plain": [
              "<Figure size 800x650 with 1 Axes>"
            ],
            "image/png": "[encoded data removed]"
          },
          "metadata": {}
        }
      ]
    },
    {
      "cell_type": "code",
      "source": [
        "print(\"Feature 11 is:\", feature_cols[11])\n"
      ],
      "metadata": {
        "colab": {
          "base_uri": "https://localhost:8080/"
        },
        "id": "cpO5Z-P4v8yh",
        "outputId": "0efb301a-a717-4756-8e2f-e32458e2f5af"
      },
      "execution_count": 77,
      "outputs": [
        {
          "output_type": "stream",
          "name": "stdout",
          "text": [
            "Feature 11 is: text_sentiment_negative\n"
          ]
        }
      ]
    }
  ]
}